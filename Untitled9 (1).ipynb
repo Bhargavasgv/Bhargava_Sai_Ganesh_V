{
 "cells": [
  {
   "cell_type": "code",
   "execution_count": null,
   "id": "a6e1155f-9311-452c-a631-baf5949184a2",
   "metadata": {
    "tags": []
   },
   "outputs": [],
   "source": [
    "library(RODBC);\n",
    "\n",
    "    dsn_driver <- \"{IBM DB2 ODBC Driver}\"\n",
    "    dsn_database <- \"bludb\"\n",
    "    dsn_hostname <- \"2d46b6b4-cbf6-40eb-bbce-6251e6ba0300.bs2io90l08kqb1od8lcg.databases.appdomain.cloud\"\n",
    "    dsn_port <- \"32328\"\n",
    "    dsn_protocol <- \"TCPIP\"\n",
    "    dsn_uid <- \"fbk74002\"\n",
    "    dsn_pwd <- \"AT3NtKJwZkQp66vg\"\n",
    "    dsn_security <- \"ssl\"\n",
    "\n",
    "    conn_path <- paste(\"DRIVER=\",dsn_driver,\n",
    "                  \";DATABASE=\",dsn_database,\n",
    "                  \";HOSTNAME=\",dsn_hostname,\n",
    "                  \";PORT=\",dsn_port,\n",
    "                  \";PROTOCOL=\",dsn_protocol,\n",
    "                  \";UID=\",dsn_uid,\n",
    "                  \";PWD=\",dsn_pwd,\n",
    "                  \";SECURITY=\",dsn_security,\n",
    "                    sep=\"\")\n",
    "    conn <- odbcDriverConnect(conn_path)\n",
    "\n",
    "    sql.info <- sqlTypeInfo(conn)\n",
    "    conn.info <- odbcGetInfo(conn)\n",
    "    conn.info[\"DBMS_Name\"]\n",
    "    conn.info[\"DBMS_Ver\"]\n",
    "    conn.info[\"Driver_ODBC_Ver\"]"
   ]
  },
  {
   "cell_type": "code",
   "execution_count": 7,
   "id": "6fa484aa-c843-4c3b-8d39-9896f06f3b1c",
   "metadata": {
    "tags": []
   },
   "outputs": [],
   "source": [
    "#crop_data\n",
    " crop_df <- read.csv('https://cf-courses-data.s3.us.cloud-object-storage.appdomain.cloud/IBM-RP0203EN-SkillsNetwork/labs/Final%20Project/Annual_Crop_Data.csv', colClasses=c(YEAR=\"character\"))"
   ]
  },
  {
   "cell_type": "code",
   "execution_count": 44,
   "id": "76001642-a7ec-4018-b9c8-47c2ff0296f4",
   "metadata": {
    "tags": []
   },
   "outputs": [],
   "source": [
    "#farm_price\n",
    "price_df<-read.csv(\"https://cf-courses-data.s3.us.cloud-object-storage.appdomain.cloud/IBM-RP0203EN-SkillsNetwork/labs/Final%20Project/Monthly_Farm_Prices.csv\",colClasses=c(DATE=\"character\"))"
   ]
  },
  {
   "cell_type": "code",
   "execution_count": 45,
   "id": "0e092ad0-5033-476b-ac9c-378eb6fafbec",
   "metadata": {
    "tags": []
   },
   "outputs": [
    {
     "name": "stderr",
     "output_type": "stream",
     "text": [
      "Warning message in read.table(file = file, header = header, sep = sep, quote = quote, :\n",
      "“not all columns named in 'colClasses' exist”"
     ]
    }
   ],
   "source": [
    "#daily_fx_data\n",
    "daily_fx_df <- read.csv('https://cf-courses-data.s3.us.cloud-object-storage.appdomain.cloud/IBM-RP0203EN-SkillsNetwork/labs/Final%20Project/Daily_FX.csv', colClasses=c(date=\"character\"))"
   ]
  },
  {
   "cell_type": "code",
   "execution_count": 46,
   "id": "81b22acd-3f21-4b7c-ad75-890810545bd3",
   "metadata": {
    "tags": []
   },
   "outputs": [],
   "source": [
    "#monthlyfx_data\n",
    "monthly_fx_df <- read.csv(\"https://cf-courses-data.s3.us.cloud-object-storage.appdomain.cloud/IBM-RP0203EN-SkillsNetwork/labs/Final%20Project/Monthly_FX.csv\",colClasses=c(DATE=\"character\"))"
   ]
  },
  {
   "cell_type": "code",
   "execution_count": 47,
   "id": "086eec1f-dd3b-4a3c-9d69-c462c4547d57",
   "metadata": {
    "tags": []
   },
   "outputs": [
    {
     "data": {
      "text/html": [
       "<table>\n",
       "<caption>A data.frame: 6 × 8</caption>\n",
       "<thead>\n",
       "\t<tr><th></th><th scope=col>CD_ID</th><th scope=col>YEAR</th><th scope=col>CROP_TYPE</th><th scope=col>GEO</th><th scope=col>SEEDED_AREA</th><th scope=col>HARVESTED_AREA</th><th scope=col>PRODUCTION</th><th scope=col>AVG_YIELD</th></tr>\n",
       "\t<tr><th></th><th scope=col>&lt;int&gt;</th><th scope=col>&lt;chr&gt;</th><th scope=col>&lt;fct&gt;</th><th scope=col>&lt;fct&gt;</th><th scope=col>&lt;int&gt;</th><th scope=col>&lt;int&gt;</th><th scope=col>&lt;int&gt;</th><th scope=col>&lt;int&gt;</th></tr>\n",
       "</thead>\n",
       "<tbody>\n",
       "\t<tr><th scope=row>1</th><td>0</td><td>1965-12-31</td><td>Barley</td><td>Alberta     </td><td>1372000</td><td>1372000</td><td>2504000</td><td>1825</td></tr>\n",
       "\t<tr><th scope=row>2</th><td>1</td><td>1965-12-31</td><td>Barley</td><td>Canada      </td><td>2476800</td><td>2476800</td><td>4752900</td><td>1920</td></tr>\n",
       "\t<tr><th scope=row>3</th><td>2</td><td>1965-12-31</td><td>Barley</td><td>Saskatchewan</td><td> 708000</td><td> 708000</td><td>1415000</td><td>2000</td></tr>\n",
       "\t<tr><th scope=row>4</th><td>3</td><td>1965-12-31</td><td>Canola</td><td>Alberta     </td><td> 297400</td><td> 297400</td><td> 215500</td><td> 725</td></tr>\n",
       "\t<tr><th scope=row>5</th><td>4</td><td>1965-12-31</td><td>Canola</td><td>Canada      </td><td> 580700</td><td> 580700</td><td> 512600</td><td> 885</td></tr>\n",
       "\t<tr><th scope=row>6</th><td>5</td><td>1965-12-31</td><td>Canola</td><td>Saskatchewan</td><td> 224600</td><td> 224600</td><td> 242700</td><td>1080</td></tr>\n",
       "</tbody>\n",
       "</table>\n"
      ],
      "text/latex": [
       "A data.frame: 6 × 8\n",
       "\\begin{tabular}{r|llllllll}\n",
       "  & CD\\_ID & YEAR & CROP\\_TYPE & GEO & SEEDED\\_AREA & HARVESTED\\_AREA & PRODUCTION & AVG\\_YIELD\\\\\n",
       "  & <int> & <chr> & <fct> & <fct> & <int> & <int> & <int> & <int>\\\\\n",
       "\\hline\n",
       "\t1 & 0 & 1965-12-31 & Barley & Alberta      & 1372000 & 1372000 & 2504000 & 1825\\\\\n",
       "\t2 & 1 & 1965-12-31 & Barley & Canada       & 2476800 & 2476800 & 4752900 & 1920\\\\\n",
       "\t3 & 2 & 1965-12-31 & Barley & Saskatchewan &  708000 &  708000 & 1415000 & 2000\\\\\n",
       "\t4 & 3 & 1965-12-31 & Canola & Alberta      &  297400 &  297400 &  215500 &  725\\\\\n",
       "\t5 & 4 & 1965-12-31 & Canola & Canada       &  580700 &  580700 &  512600 &  885\\\\\n",
       "\t6 & 5 & 1965-12-31 & Canola & Saskatchewan &  224600 &  224600 &  242700 & 1080\\\\\n",
       "\\end{tabular}\n"
      ],
      "text/markdown": [
       "\n",
       "A data.frame: 6 × 8\n",
       "\n",
       "| <!--/--> | CD_ID &lt;int&gt; | YEAR &lt;chr&gt; | CROP_TYPE &lt;fct&gt; | GEO &lt;fct&gt; | SEEDED_AREA &lt;int&gt; | HARVESTED_AREA &lt;int&gt; | PRODUCTION &lt;int&gt; | AVG_YIELD &lt;int&gt; |\n",
       "|---|---|---|---|---|---|---|---|---|\n",
       "| 1 | 0 | 1965-12-31 | Barley | Alberta      | 1372000 | 1372000 | 2504000 | 1825 |\n",
       "| 2 | 1 | 1965-12-31 | Barley | Canada       | 2476800 | 2476800 | 4752900 | 1920 |\n",
       "| 3 | 2 | 1965-12-31 | Barley | Saskatchewan |  708000 |  708000 | 1415000 | 2000 |\n",
       "| 4 | 3 | 1965-12-31 | Canola | Alberta      |  297400 |  297400 |  215500 |  725 |\n",
       "| 5 | 4 | 1965-12-31 | Canola | Canada       |  580700 |  580700 |  512600 |  885 |\n",
       "| 6 | 5 | 1965-12-31 | Canola | Saskatchewan |  224600 |  224600 |  242700 | 1080 |\n",
       "\n"
      ],
      "text/plain": [
       "  CD_ID YEAR       CROP_TYPE GEO          SEEDED_AREA HARVESTED_AREA PRODUCTION\n",
       "1 0     1965-12-31 Barley    Alberta      1372000     1372000        2504000   \n",
       "2 1     1965-12-31 Barley    Canada       2476800     2476800        4752900   \n",
       "3 2     1965-12-31 Barley    Saskatchewan  708000      708000        1415000   \n",
       "4 3     1965-12-31 Canola    Alberta       297400      297400         215500   \n",
       "5 4     1965-12-31 Canola    Canada        580700      580700         512600   \n",
       "6 5     1965-12-31 Canola    Saskatchewan  224600      224600         242700   \n",
       "  AVG_YIELD\n",
       "1 1825     \n",
       "2 1920     \n",
       "3 2000     \n",
       "4  725     \n",
       "5  885     \n",
       "6 1080     "
      ]
     },
     "metadata": {},
     "output_type": "display_data"
    },
    {
     "data": {
      "text/html": [
       "<table>\n",
       "<caption>A data.frame: 6 × 5</caption>\n",
       "<thead>\n",
       "\t<tr><th></th><th scope=col>CD_ID</th><th scope=col>DATE</th><th scope=col>CROP_TYPE</th><th scope=col>GEO</th><th scope=col>PRICE_PRERMT</th></tr>\n",
       "\t<tr><th></th><th scope=col>&lt;int&gt;</th><th scope=col>&lt;chr&gt;</th><th scope=col>&lt;fct&gt;</th><th scope=col>&lt;fct&gt;</th><th scope=col>&lt;dbl&gt;</th></tr>\n",
       "</thead>\n",
       "<tbody>\n",
       "\t<tr><th scope=row>1</th><td>0</td><td>1985-01-01</td><td>Barley</td><td>Alberta     </td><td>127.39</td></tr>\n",
       "\t<tr><th scope=row>2</th><td>1</td><td>1985-01-01</td><td>Barley</td><td>Saskatchewan</td><td>121.38</td></tr>\n",
       "\t<tr><th scope=row>3</th><td>2</td><td>1985-01-01</td><td>Canola</td><td>Alberta     </td><td>342.00</td></tr>\n",
       "\t<tr><th scope=row>4</th><td>3</td><td>1985-01-01</td><td>Canola</td><td>Saskatchewan</td><td>339.82</td></tr>\n",
       "\t<tr><th scope=row>5</th><td>4</td><td>1985-01-01</td><td>Rye   </td><td>Alberta     </td><td>100.77</td></tr>\n",
       "\t<tr><th scope=row>6</th><td>5</td><td>1985-01-01</td><td>Rye   </td><td>Saskatchewan</td><td>109.75</td></tr>\n",
       "</tbody>\n",
       "</table>\n"
      ],
      "text/latex": [
       "A data.frame: 6 × 5\n",
       "\\begin{tabular}{r|lllll}\n",
       "  & CD\\_ID & DATE & CROP\\_TYPE & GEO & PRICE\\_PRERMT\\\\\n",
       "  & <int> & <chr> & <fct> & <fct> & <dbl>\\\\\n",
       "\\hline\n",
       "\t1 & 0 & 1985-01-01 & Barley & Alberta      & 127.39\\\\\n",
       "\t2 & 1 & 1985-01-01 & Barley & Saskatchewan & 121.38\\\\\n",
       "\t3 & 2 & 1985-01-01 & Canola & Alberta      & 342.00\\\\\n",
       "\t4 & 3 & 1985-01-01 & Canola & Saskatchewan & 339.82\\\\\n",
       "\t5 & 4 & 1985-01-01 & Rye    & Alberta      & 100.77\\\\\n",
       "\t6 & 5 & 1985-01-01 & Rye    & Saskatchewan & 109.75\\\\\n",
       "\\end{tabular}\n"
      ],
      "text/markdown": [
       "\n",
       "A data.frame: 6 × 5\n",
       "\n",
       "| <!--/--> | CD_ID &lt;int&gt; | DATE &lt;chr&gt; | CROP_TYPE &lt;fct&gt; | GEO &lt;fct&gt; | PRICE_PRERMT &lt;dbl&gt; |\n",
       "|---|---|---|---|---|---|\n",
       "| 1 | 0 | 1985-01-01 | Barley | Alberta      | 127.39 |\n",
       "| 2 | 1 | 1985-01-01 | Barley | Saskatchewan | 121.38 |\n",
       "| 3 | 2 | 1985-01-01 | Canola | Alberta      | 342.00 |\n",
       "| 4 | 3 | 1985-01-01 | Canola | Saskatchewan | 339.82 |\n",
       "| 5 | 4 | 1985-01-01 | Rye    | Alberta      | 100.77 |\n",
       "| 6 | 5 | 1985-01-01 | Rye    | Saskatchewan | 109.75 |\n",
       "\n"
      ],
      "text/plain": [
       "  CD_ID DATE       CROP_TYPE GEO          PRICE_PRERMT\n",
       "1 0     1985-01-01 Barley    Alberta      127.39      \n",
       "2 1     1985-01-01 Barley    Saskatchewan 121.38      \n",
       "3 2     1985-01-01 Canola    Alberta      342.00      \n",
       "4 3     1985-01-01 Canola    Saskatchewan 339.82      \n",
       "5 4     1985-01-01 Rye       Alberta      100.77      \n",
       "6 5     1985-01-01 Rye       Saskatchewan 109.75      "
      ]
     },
     "metadata": {},
     "output_type": "display_data"
    },
    {
     "data": {
      "text/html": [
       "<table>\n",
       "<caption>A data.frame: 6 × 3</caption>\n",
       "<thead>\n",
       "\t<tr><th></th><th scope=col>DFX_ID</th><th scope=col>DATE</th><th scope=col>FXUSDCAD</th></tr>\n",
       "\t<tr><th></th><th scope=col>&lt;int&gt;</th><th scope=col>&lt;fct&gt;</th><th scope=col>&lt;dbl&gt;</th></tr>\n",
       "</thead>\n",
       "<tbody>\n",
       "\t<tr><th scope=row>1</th><td>0</td><td>2017-01-03</td><td>1.3435</td></tr>\n",
       "\t<tr><th scope=row>2</th><td>1</td><td>2017-01-04</td><td>1.3315</td></tr>\n",
       "\t<tr><th scope=row>3</th><td>2</td><td>2017-01-05</td><td>1.3244</td></tr>\n",
       "\t<tr><th scope=row>4</th><td>3</td><td>2017-01-06</td><td>1.3214</td></tr>\n",
       "\t<tr><th scope=row>5</th><td>4</td><td>2017-01-09</td><td>1.3240</td></tr>\n",
       "\t<tr><th scope=row>6</th><td>5</td><td>2017-01-10</td><td>1.3213</td></tr>\n",
       "</tbody>\n",
       "</table>\n"
      ],
      "text/latex": [
       "A data.frame: 6 × 3\n",
       "\\begin{tabular}{r|lll}\n",
       "  & DFX\\_ID & DATE & FXUSDCAD\\\\\n",
       "  & <int> & <fct> & <dbl>\\\\\n",
       "\\hline\n",
       "\t1 & 0 & 2017-01-03 & 1.3435\\\\\n",
       "\t2 & 1 & 2017-01-04 & 1.3315\\\\\n",
       "\t3 & 2 & 2017-01-05 & 1.3244\\\\\n",
       "\t4 & 3 & 2017-01-06 & 1.3214\\\\\n",
       "\t5 & 4 & 2017-01-09 & 1.3240\\\\\n",
       "\t6 & 5 & 2017-01-10 & 1.3213\\\\\n",
       "\\end{tabular}\n"
      ],
      "text/markdown": [
       "\n",
       "A data.frame: 6 × 3\n",
       "\n",
       "| <!--/--> | DFX_ID &lt;int&gt; | DATE &lt;fct&gt; | FXUSDCAD &lt;dbl&gt; |\n",
       "|---|---|---|---|\n",
       "| 1 | 0 | 2017-01-03 | 1.3435 |\n",
       "| 2 | 1 | 2017-01-04 | 1.3315 |\n",
       "| 3 | 2 | 2017-01-05 | 1.3244 |\n",
       "| 4 | 3 | 2017-01-06 | 1.3214 |\n",
       "| 5 | 4 | 2017-01-09 | 1.3240 |\n",
       "| 6 | 5 | 2017-01-10 | 1.3213 |\n",
       "\n"
      ],
      "text/plain": [
       "  DFX_ID DATE       FXUSDCAD\n",
       "1 0      2017-01-03 1.3435  \n",
       "2 1      2017-01-04 1.3315  \n",
       "3 2      2017-01-05 1.3244  \n",
       "4 3      2017-01-06 1.3214  \n",
       "5 4      2017-01-09 1.3240  \n",
       "6 5      2017-01-10 1.3213  "
      ]
     },
     "metadata": {},
     "output_type": "display_data"
    },
    {
     "data": {
      "text/html": [
       "<table>\n",
       "<caption>A data.frame: 6 × 3</caption>\n",
       "<thead>\n",
       "\t<tr><th></th><th scope=col>DFX_ID</th><th scope=col>DATE</th><th scope=col>FXUSDCAD</th></tr>\n",
       "\t<tr><th></th><th scope=col>&lt;int&gt;</th><th scope=col>&lt;chr&gt;</th><th scope=col>&lt;dbl&gt;</th></tr>\n",
       "</thead>\n",
       "<tbody>\n",
       "\t<tr><th scope=row>1</th><td>0</td><td>2017-01-01</td><td>1.319276</td></tr>\n",
       "\t<tr><th scope=row>2</th><td>1</td><td>2017-02-01</td><td>1.310726</td></tr>\n",
       "\t<tr><th scope=row>3</th><td>2</td><td>2017-03-01</td><td>1.338643</td></tr>\n",
       "\t<tr><th scope=row>4</th><td>3</td><td>2017-04-01</td><td>1.344021</td></tr>\n",
       "\t<tr><th scope=row>5</th><td>4</td><td>2017-05-01</td><td>1.360705</td></tr>\n",
       "\t<tr><th scope=row>6</th><td>5</td><td>2017-06-01</td><td>1.329805</td></tr>\n",
       "</tbody>\n",
       "</table>\n"
      ],
      "text/latex": [
       "A data.frame: 6 × 3\n",
       "\\begin{tabular}{r|lll}\n",
       "  & DFX\\_ID & DATE & FXUSDCAD\\\\\n",
       "  & <int> & <chr> & <dbl>\\\\\n",
       "\\hline\n",
       "\t1 & 0 & 2017-01-01 & 1.319276\\\\\n",
       "\t2 & 1 & 2017-02-01 & 1.310726\\\\\n",
       "\t3 & 2 & 2017-03-01 & 1.338643\\\\\n",
       "\t4 & 3 & 2017-04-01 & 1.344021\\\\\n",
       "\t5 & 4 & 2017-05-01 & 1.360705\\\\\n",
       "\t6 & 5 & 2017-06-01 & 1.329805\\\\\n",
       "\\end{tabular}\n"
      ],
      "text/markdown": [
       "\n",
       "A data.frame: 6 × 3\n",
       "\n",
       "| <!--/--> | DFX_ID &lt;int&gt; | DATE &lt;chr&gt; | FXUSDCAD &lt;dbl&gt; |\n",
       "|---|---|---|---|\n",
       "| 1 | 0 | 2017-01-01 | 1.319276 |\n",
       "| 2 | 1 | 2017-02-01 | 1.310726 |\n",
       "| 3 | 2 | 2017-03-01 | 1.338643 |\n",
       "| 4 | 3 | 2017-04-01 | 1.344021 |\n",
       "| 5 | 4 | 2017-05-01 | 1.360705 |\n",
       "| 6 | 5 | 2017-06-01 | 1.329805 |\n",
       "\n"
      ],
      "text/plain": [
       "  DFX_ID DATE       FXUSDCAD\n",
       "1 0      2017-01-01 1.319276\n",
       "2 1      2017-02-01 1.310726\n",
       "3 2      2017-03-01 1.338643\n",
       "4 3      2017-04-01 1.344021\n",
       "5 4      2017-05-01 1.360705\n",
       "6 5      2017-06-01 1.329805"
      ]
     },
     "metadata": {},
     "output_type": "display_data"
    }
   ],
   "source": [
    "head(crop_df)\n",
    "head(price_df)\n",
    "head(daily_fx_df)\n",
    "head(monthly_fx_df)"
   ]
  },
  {
   "cell_type": "code",
   "execution_count": 37,
   "id": "8552f9c6-94db-4ad0-9643-9563215811ab",
   "metadata": {
    "tags": []
   },
   "outputs": [
    {
     "name": "stdout",
     "output_type": "stream",
     "text": [
      "An error has occurred.\n",
      "[1] \"42S01 -601 [IBM][CLI Driver][DB2/LINUXX8664] SQL0601N  The name of the object to be created is identical to the existing name \\\"FBK74002.CROP_DATA\\\" of type \\\"TABLE\\\".  SQLSTATE=42710\\n\"                                                                                                                                                                                                                                                                                                                                                                                                                                                                                                                                   \n",
      "[2] \"[RODBC] ERROR: Could not SQLExecDirect 'CREATE TABLE CROP_DATA (\\n                                      CD_ID INTEGER NOT NULL,\\n                                      YEAR DATE NOT NULL,\\n                                      CROP_TYPE VARCHAR(20) NOT NULL,\\n                                      GEO VARCHAR(20) NOT NULL, \\n                                      SEEDED_AREA INTEGER NOT NULL,\\n                                      HARVESTED_AREA INTEGER NOT NULL,\\n                                      PRODUCTION INTEGER NOT NULL,\\n                                      AVG_YIELD INTEGER NOT NULL,\\n                                      PRIMARY KEY (CD_ID)\\n                                      )'\"\n"
     ]
    }
   ],
   "source": [
    "df1 <- sqlQuery(conn, \n",
    "                    \"CREATE TABLE CROP_DATA (\n",
    "                                      CD_ID INTEGER NOT NULL,\n",
    "                                      YEAR DATE NOT NULL,\n",
    "                                      CROP_TYPE VARCHAR(20) NOT NULL,\n",
    "                                      GEO VARCHAR(20) NOT NULL, \n",
    "                                      SEEDED_AREA INTEGER NOT NULL,\n",
    "                                      HARVESTED_AREA INTEGER NOT NULL,\n",
    "                                      PRODUCTION INTEGER NOT NULL,\n",
    "                                      AVG_YIELD INTEGER NOT NULL,\n",
    "                                      PRIMARY KEY (CD_ID)\n",
    "                                      )\", \n",
    "                    errors=FALSE\n",
    "                    )\n",
    "\n",
    "    if (df1 == -1){\n",
    "        cat (\"An error has occurred.\\n\")\n",
    "        msg <- odbcGetErrMsg(conn)\n",
    "        print (msg)\n",
    "    } else {\n",
    "        cat (\"Table was created successfully.\\n\")\n",
    "    }"
   ]
  },
  {
   "cell_type": "code",
   "execution_count": 38,
   "id": "d440c311-4d2b-43bb-a9f5-804f09ed5640",
   "metadata": {
    "tags": []
   },
   "outputs": [
    {
     "name": "stdout",
     "output_type": "stream",
     "text": [
      "An error has occurred.\n",
      "[1] \"42S01 -601 [IBM][CLI Driver][DB2/LINUXX8664] SQL0601N  The name of the object to be created is identical to the existing name \\\"FBK74002.FARM_PRICES\\\" of type \\\"TABLE\\\".  SQLSTATE=42710\\n\"                                                                                                                                                                                                                                                                                                          \n",
      "[2] \"[RODBC] ERROR: Could not SQLExecDirect 'CREATE TABLE FARM_PRICES (\\n                                      CD_ID INTEGER NOT NULL,\\n                                      YEAR DATE NOT NULL,\\n                                      CROP_TYPE VARCHAR(20) NOT NULL,\\n                                      GEO VARCHAR(20) NOT NULL, \\n                                      PRICE_PERMIT FLOAT,\\n                                      PRIMARY KEY (CD_ID)\\n                                      )'\"\n"
     ]
    }
   ],
   "source": [
    "df2 <- sqlQuery(conn, \n",
    "                    \"CREATE TABLE FARM_PRICES (\n",
    "                                      CD_ID INTEGER NOT NULL,\n",
    "                                      YEAR DATE NOT NULL,\n",
    "                                      CROP_TYPE VARCHAR(20) NOT NULL,\n",
    "                                      GEO VARCHAR(20) NOT NULL, \n",
    "                                      PRICE_PERMIT FLOAT,\n",
    "                                      PRIMARY KEY (CD_ID)\n",
    "                                      )\", \n",
    "                    errors=FALSE\n",
    "                    )\n",
    "\n",
    "    if (df2 == -1){\n",
    "        cat (\"An error has occurred.\\n\")\n",
    "        msg <- odbcGetErrMsg(conn)\n",
    "        print (msg)\n",
    "    } else {\n",
    "        cat (\"Table was created successfully.\\n\")\n",
    "    }"
   ]
  },
  {
   "cell_type": "code",
   "execution_count": 39,
   "id": "0a65ef58-fe24-4367-84f5-6a0fc5fca9e2",
   "metadata": {
    "tags": []
   },
   "outputs": [
    {
     "name": "stdout",
     "output_type": "stream",
     "text": [
      "An error has occurred.\n",
      "[1] \"42S01 -601 [IBM][CLI Driver][DB2/LINUXX8664] SQL0601N  The name of the object to be created is identical to the existing name \\\"FBK74002.DAILY_FX\\\" of type \\\"TABLE\\\".  SQLSTATE=42710\\n\"                                                                                                                                     \n",
      "[2] \"[RODBC] ERROR: Could not SQLExecDirect 'CREATE TABLE DAILY_FX (\\n                                DFX_ID INTEGER NOT NULL,\\n                                DATE DATE NOT NULL, \\n                                FXUSDCAD FLOAT(6),\\n                                PRIMARY KEY (DFX_ID)\\n                                )'\"\n"
     ]
    }
   ],
   "source": [
    "df3 <- sqlQuery(conn, \"CREATE TABLE DAILY_FX (\n",
    "                                DFX_ID INTEGER NOT NULL,\n",
    "                                DATE DATE NOT NULL, \n",
    "                                FXUSDCAD FLOAT(6),\n",
    "                                PRIMARY KEY (DFX_ID)\n",
    "                                )\",\n",
    "                    errors=FALSE\n",
    "                    )\n",
    "\n",
    "    if (df3 == -1){\n",
    "        cat (\"An error has occurred.\\n\")\n",
    "        msg <- odbcGetErrMsg(conn)\n",
    "        print (msg)\n",
    "    } else {\n",
    "        cat (\"Table was created successfully.\\n\")\n",
    "    }"
   ]
  },
  {
   "cell_type": "code",
   "execution_count": 65,
   "id": "e37e51db-4c87-4d25-90d7-1f170a19125a",
   "metadata": {
    "tags": []
   },
   "outputs": [
    {
     "name": "stdout",
     "output_type": "stream",
     "text": [
      "An error has occurred.\n",
      "[1] \"42S01 -601 [IBM][CLI Driver][DB2/LINUXX8664] SQL0601N  The name of the object to be created is identical to the existing name \\\"FBK74002.MONTHLY_FX\\\" of type \\\"TABLE\\\".  SQLSTATE=42710\\n\"                                                                                                                                     \n",
      "[2] \"[RODBC] ERROR: Could not SQLExecDirect 'CREATE TABLE MONTHLY_FX (\\n                                DFX_ID INTEGER NOT NULL,\\n                                DATE DATE NOT NULL, \\n                                FXUSDCAD FLOAT(6),\\n                                PRIMARY KEY (DFX_ID)\\n                                )'\"\n"
     ]
    }
   ],
   "source": [
    "df4 <- sqlQuery(conn, \"CREATE TABLE MONTHLY_FX (\n",
    "                                DFX_ID INTEGER NOT NULL,\n",
    "                                DATE DATE NOT NULL, \n",
    "                                FXUSDCAD FLOAT(6),\n",
    "                                PRIMARY KEY (DFX_ID)\n",
    "                                )\",\n",
    "                    errors=FALSE\n",
    "                    )\n",
    "\n",
    "    if (df4 == -1){\n",
    "        cat (\"An error has occurred.\\n\")\n",
    "        msg <- odbcGetErrMsg(conn)\n",
    "        print (msg)\n",
    "    } else {\n",
    "        cat (\"Table was created successfully.\\n\")\n",
    "    }"
   ]
  },
  {
   "cell_type": "code",
   "execution_count": 41,
   "id": "097d05ca-fff0-4bee-8815-384ae229b5f0",
   "metadata": {
    "tags": []
   },
   "outputs": [
    {
     "ename": "ERROR",
     "evalue": "Error in is.data.frame(dat): object 'price_df' not found\n",
     "execution_count": 41,
     "output_type": "error",
     "traceback": [
      "Error in is.data.frame(dat): object 'price_df' not found\nTraceback:\n",
      "1. sqlSave(conn, price_df, \"FARM_PRICES\", append = TRUE, fast = FALSE, \n .     rownames = FALSE, colnames = FALSE, verbose = FALSE)",
      "2. is.data.frame(dat)"
     ]
    }
   ],
   "source": [
    "sqlSave(conn, price_df, \"FARM_PRICES\", append=TRUE, fast=FALSE, rownames=FALSE, colnames=FALSE, verbose=FALSE)\n",
    "sqlSave(conn, daily_fx_df, \"DAILY_FX\", append=TRUE, fast=FALSE, rownames=FALSE, colnames=FALSE, verbose=FALSE)\n",
    "sqlSave(conn, montly_fx_df, \"MONTHLY_FX\", append=TRUE, fast=FALSE, rownames=FALSE, colnames=FALSE, verbose=FALSE)"
   ]
  },
  {
   "cell_type": "code",
   "execution_count": 42,
   "id": "6909d106-0f98-4370-94cc-33260bfb7e67",
   "metadata": {
    "tags": []
   },
   "outputs": [
    {
     "ename": "ERROR",
     "evalue": "Error in parse(text = x, srcfile = src): <text>:7:0: unexpected end of input\n5:   query <- paste(\"DROP TABLE IF EXISTS\", table_name)\n6:   dbExecute(db_connection, query)\n  ^\n",
     "execution_count": 42,
     "output_type": "error",
     "traceback": [
      "Error in parse(text = x, srcfile = src): <text>:7:0: unexpected end of input\n5:   query <- paste(\"DROP TABLE IF EXISTS\", table_name)\n6:   dbExecute(db_connection, query)\n  ^\nTraceback:\n"
     ]
    }
   ],
   "source": [
    "tables_to_drop <- c(\"CROP_DATA\", \"FARM_PRICES\", \"DAILY_FX\", \"MONTHLY_FX\")\n",
    "\n",
    "# Loop through the tables and drop them\n",
    "for (table_name in tables_to_drop) {\n",
    "  query <- paste(\"DROP TABLE IF EXISTS\", table_name)\n",
    "  dbExecute(db_connection, query)"
   ]
  },
  {
   "cell_type": "code",
   "execution_count": 43,
   "id": "0df49394-7909-46de-8392-d00b1ec5f2cf",
   "metadata": {
    "tags": []
   },
   "outputs": [
    {
     "name": "stdout",
     "output_type": "stream",
     "text": [
      "'data.frame':\t672 obs. of  8 variables:\n",
      " $ CD_ID         : int  0 1 2 3 4 5 6 7 8 9 ...\n",
      " $ YEAR          : chr  \"1965-12-31\" \"1965-12-31\" \"1965-12-31\" \"1965-12-31\" ...\n",
      " $ CROP_TYPE     : Factor w/ 4 levels \"Barley\",\"Canola\",..: 1 1 1 2 2 2 3 3 3 4 ...\n",
      " $ GEO           : Factor w/ 3 levels \"Alberta\",\"Canada\",..: 1 2 3 1 2 3 1 2 3 1 ...\n",
      " $ SEEDED_AREA   : int  1372000 2476800 708000 297400 580700 224600 81000 323900 166000 2448000 ...\n",
      " $ HARVESTED_AREA: int  1372000 2476800 708000 297400 580700 224600 81000 323900 166000 2448000 ...\n",
      " $ PRODUCTION    : int  2504000 4752900 1415000 215500 512600 242700 116400 453400 224000 4164000 ...\n",
      " $ AVG_YIELD     : int  1825 1920 2000 725 885 1080 1435 1400 1350 1700 ...\n"
     ]
    }
   ],
   "source": [
    "str(crop_df)"
   ]
  },
  {
   "cell_type": "code",
   "execution_count": null,
   "id": "bd86ae6a-175b-4f6f-a1aa-dff8aca73c12",
   "metadata": {
    "tags": []
   },
   "outputs": [],
   "source": [
    "sqlSave(conn, crop_df, \"CROP_DATA\", append=TRUE, fast=FALSE, rownames=FALSE, colnames=FALSE, verbose=FALSE)"
   ]
  },
  {
   "cell_type": "code",
   "execution_count": null,
   "id": "5a1d3b7c-7e92-4d59-8aa1-c51a306dc5a7",
   "metadata": {
    "tags": []
   },
   "outputs": [],
   "source": [
    "query = \"SELECT COUNT(*) AS record_count FROM FARM_PRICES\"\n",
    "    sqlQuery(conn,query)"
   ]
  },
  {
   "cell_type": "code",
   "execution_count": 34,
   "id": "56ddff94-5774-4066-aa7e-0b078237fee4",
   "metadata": {
    "tags": []
   },
   "outputs": [
    {
     "data": {
      "text/html": [
       "<table>\n",
       "<caption>A data.frame: 2 × 1</caption>\n",
       "<thead>\n",
       "\t<tr><th></th><th scope=col>GEO</th></tr>\n",
       "\t<tr><th></th><th scope=col>&lt;fct&gt;</th></tr>\n",
       "</thead>\n",
       "<tbody>\n",
       "\t<tr><th scope=row>1</th><td>Alberta     </td></tr>\n",
       "\t<tr><th scope=row>2</th><td>Saskatchewan</td></tr>\n",
       "</tbody>\n",
       "</table>\n"
      ],
      "text/latex": [
       "A data.frame: 2 × 1\n",
       "\\begin{tabular}{r|l}\n",
       "  & GEO\\\\\n",
       "  & <fct>\\\\\n",
       "\\hline\n",
       "\t1 & Alberta     \\\\\n",
       "\t2 & Saskatchewan\\\\\n",
       "\\end{tabular}\n"
      ],
      "text/markdown": [
       "\n",
       "A data.frame: 2 × 1\n",
       "\n",
       "| <!--/--> | GEO &lt;fct&gt; |\n",
       "|---|---|\n",
       "| 1 | Alberta      |\n",
       "| 2 | Saskatchewan |\n",
       "\n"
      ],
      "text/plain": [
       "  GEO         \n",
       "1 Alberta     \n",
       "2 Saskatchewan"
      ]
     },
     "metadata": {},
     "output_type": "display_data"
    }
   ],
   "source": [
    "query = \"SELECT DISTINCT(GEO) FROM FARM_PRICES\"\n",
    "    sqlQuery(conn,query)"
   ]
  },
  {
   "cell_type": "code",
   "execution_count": 285,
   "id": "c48e3029-166e-444a-8ca2-3b57f8e91474",
   "metadata": {
    "tags": []
   },
   "outputs": [
    {
     "data": {
      "text/html": [
       "<table>\n",
       "<caption>A data.frame: 1 × 2</caption>\n",
       "<thead>\n",
       "\t<tr><th></th><th scope=col>FIRST_DATE</th><th scope=col>LAST_DATE</th></tr>\n",
       "\t<tr><th></th><th scope=col>&lt;date&gt;</th><th scope=col>&lt;date&gt;</th></tr>\n",
       "</thead>\n",
       "<tbody>\n",
       "\t<tr><th scope=row>1</th><td>1985-01-01</td><td>2000-11-01</td></tr>\n",
       "</tbody>\n",
       "</table>\n"
      ],
      "text/latex": [
       "A data.frame: 1 × 2\n",
       "\\begin{tabular}{r|ll}\n",
       "  & FIRST\\_DATE & LAST\\_DATE\\\\\n",
       "  & <date> & <date>\\\\\n",
       "\\hline\n",
       "\t1 & 1985-01-01 & 2000-11-01\\\\\n",
       "\\end{tabular}\n"
      ],
      "text/markdown": [
       "\n",
       "A data.frame: 1 × 2\n",
       "\n",
       "| <!--/--> | FIRST_DATE &lt;date&gt; | LAST_DATE &lt;date&gt; |\n",
       "|---|---|---|\n",
       "| 1 | 1985-01-01 | 2000-11-01 |\n",
       "\n"
      ],
      "text/plain": [
       "  FIRST_DATE LAST_DATE \n",
       "1 1985-01-01 2000-11-01"
      ]
     },
     "metadata": {},
     "output_type": "display_data"
    }
   ],
   "source": [
    "query = \"SELECT MIN(YEAR) AS first_date,\n",
    "                MAX(YEAR) AS last_date\n",
    "                FROM FARM_PRICES;\"\n",
    "sqlQuery(conn,query)\n",
    "        "
   ]
  },
  {
   "cell_type": "code",
   "execution_count": 155,
   "id": "bc18a360",
   "metadata": {
    "tags": []
   },
   "outputs": [
    {
     "data": {
      "text/html": [
       "<table>\n",
       "<caption>A data.frame: 1 × 2</caption>\n",
       "<thead>\n",
       "\t<tr><th></th><th scope=col>FIRST_DATE</th><th scope=col>LAST_DATE</th></tr>\n",
       "\t<tr><th></th><th scope=col>&lt;date&gt;</th><th scope=col>&lt;date&gt;</th></tr>\n",
       "</thead>\n",
       "<tbody>\n",
       "\t<tr><th scope=row>1</th><td>1985-01-01</td><td>2000-11-01</td></tr>\n",
       "</tbody>\n",
       "</table>\n"
      ],
      "text/latex": [
       "A data.frame: 1 × 2\n",
       "\\begin{tabular}{r|ll}\n",
       "  & FIRST\\_DATE & LAST\\_DATE\\\\\n",
       "  & <date> & <date>\\\\\n",
       "\\hline\n",
       "\t1 & 1985-01-01 & 2000-11-01\\\\\n",
       "\\end{tabular}\n"
      ],
      "text/markdown": [
       "\n",
       "A data.frame: 1 × 2\n",
       "\n",
       "| <!--/--> | FIRST_DATE &lt;date&gt; | LAST_DATE &lt;date&gt; |\n",
       "|---|---|---|\n",
       "| 1 | 1985-01-01 | 2000-11-01 |\n",
       "\n"
      ],
      "text/plain": [
       "  FIRST_DATE LAST_DATE \n",
       "1 1985-01-01 2000-11-01"
      ]
     },
     "metadata": {},
     "output_type": "display_data"
    }
   ],
   "source": [
    "query = \"SELECT MIN(YEAR) AS first_date,\n",
    "                MAX(YEAR) AS last_date\n",
    "                FROM FARM_PRICES;\"\n",
    "sqlQuery(conn,query)\n",
    "        "
   ]
  },
  {
   "cell_type": "code",
   "execution_count": 155,
   "id": "3a146fe2",
   "metadata": {
    "tags": []
   },
   "outputs": [
    {
     "data": {
      "text/html": [
       "<table>\n",
       "<caption>A data.frame: 1 × 2</caption>\n",
       "<thead>\n",
       "\t<tr><th></th><th scope=col>FIRST_DATE</th><th scope=col>LAST_DATE</th></tr>\n",
       "\t<tr><th></th><th scope=col>&lt;date&gt;</th><th scope=col>&lt;date&gt;</th></tr>\n",
       "</thead>\n",
       "<tbody>\n",
       "\t<tr><th scope=row>1</th><td>1985-01-01</td><td>2000-11-01</td></tr>\n",
       "</tbody>\n",
       "</table>\n"
      ],
      "text/latex": [
       "A data.frame: 1 × 2\n",
       "\\begin{tabular}{r|ll}\n",
       "  & FIRST\\_DATE & LAST\\_DATE\\\\\n",
       "  & <date> & <date>\\\\\n",
       "\\hline\n",
       "\t1 & 1985-01-01 & 2000-11-01\\\\\n",
       "\\end{tabular}\n"
      ],
      "text/markdown": [
       "\n",
       "A data.frame: 1 × 2\n",
       "\n",
       "| <!--/--> | FIRST_DATE &lt;date&gt; | LAST_DATE &lt;date&gt; |\n",
       "|---|---|---|\n",
       "| 1 | 1985-01-01 | 2000-11-01 |\n",
       "\n"
      ],
      "text/plain": [
       "  FIRST_DATE LAST_DATE \n",
       "1 1985-01-01 2000-11-01"
      ]
     },
     "metadata": {},
     "output_type": "display_data"
    }
   ],
   "source": [
    "query = \"SELECT MIN(YEAR) AS first_date,\n",
    "                MAX(YEAR) AS last_date\n",
    "                FROM FARM_PRICES;\"\n",
    "sqlQuery(conn,query)\n",
    "        "
   ]
  },
  {
   "cell_type": "code",
   "execution_count": 155,
   "id": "9f59a674",
   "metadata": {
    "tags": []
   },
   "outputs": [
    {
     "data": {
      "text/html": [
       "<table>\n",
       "<caption>A data.frame: 1 × 2</caption>\n",
       "<thead>\n",
       "\t<tr><th></th><th scope=col>FIRST_DATE</th><th scope=col>LAST_DATE</th></tr>\n",
       "\t<tr><th></th><th scope=col>&lt;date&gt;</th><th scope=col>&lt;date&gt;</th></tr>\n",
       "</thead>\n",
       "<tbody>\n",
       "\t<tr><th scope=row>1</th><td>1985-01-01</td><td>2000-11-01</td></tr>\n",
       "</tbody>\n",
       "</table>\n"
      ],
      "text/latex": [
       "A data.frame: 1 × 2\n",
       "\\begin{tabular}{r|ll}\n",
       "  & FIRST\\_DATE & LAST\\_DATE\\\\\n",
       "  & <date> & <date>\\\\\n",
       "\\hline\n",
       "\t1 & 1985-01-01 & 2000-11-01\\\\\n",
       "\\end{tabular}\n"
      ],
      "text/markdown": [
       "\n",
       "A data.frame: 1 × 2\n",
       "\n",
       "| <!--/--> | FIRST_DATE &lt;date&gt; | LAST_DATE &lt;date&gt; |\n",
       "|---|---|---|\n",
       "| 1 | 1985-01-01 | 2000-11-01 |\n",
       "\n"
      ],
      "text/plain": [
       "  FIRST_DATE LAST_DATE \n",
       "1 1985-01-01 2000-11-01"
      ]
     },
     "metadata": {},
     "output_type": "display_data"
    }
   ],
   "source": [
    "query = \"SELECT MIN(YEAR) AS first_date,\n",
    "                MAX(YEAR) AS last_date\n",
    "                FROM FARM_PRICES;\"\n",
    "sqlQuery(conn,query)\n",
    "        "
   ]
  },
  {
   "cell_type": "code",
   "execution_count": 38,
   "id": "c6a9af6e-25d0-4af4-b0ee-7c6b5ebbe800",
   "metadata": {
    "tags": []
   },
   "outputs": [
    {
     "data": {
      "text/html": [
       "<table>\n",
       "<caption>A data.frame: 10 × 3</caption>\n",
       "<thead>\n",
       "\t<tr><th></th><th scope=col>CROP_TYPE</th><th scope=col>PRICE_PERMIT</th><th scope=col>YEAR</th></tr>\n",
       "\t<tr><th></th><th scope=col>&lt;fct&gt;</th><th scope=col>&lt;dbl&gt;</th><th scope=col>&lt;date&gt;</th></tr>\n",
       "</thead>\n",
       "<tbody>\n",
       "\t<tr><th scope=row>1</th><td>Canola</td><td>350.04</td><td>1985-03-01</td></tr>\n",
       "\t<tr><th scope=row>2</th><td>Canola</td><td>350.47</td><td>1985-06-01</td></tr>\n",
       "\t<tr><th scope=row>3</th><td>Canola</td><td>350.72</td><td>1995-08-01</td></tr>\n",
       "\t<tr><th scope=row>4</th><td>Canola</td><td>351.92</td><td>1999-02-01</td></tr>\n",
       "\t<tr><th scope=row>5</th><td>Canola</td><td>352.03</td><td>1997-10-01</td></tr>\n",
       "\t<tr><th scope=row>6</th><td>Canola</td><td>352.34</td><td>1998-10-01</td></tr>\n",
       "\t<tr><th scope=row>7</th><td>Canola</td><td>354.05</td><td>1988-07-01</td></tr>\n",
       "\t<tr><th scope=row>8</th><td>Canola</td><td>354.58</td><td>1985-05-01</td></tr>\n",
       "\t<tr><th scope=row>9</th><td>Canola</td><td>354.82</td><td>1988-07-01</td></tr>\n",
       "\t<tr><th scope=row>10</th><td>Canola</td><td>355.36</td><td>1998-01-01</td></tr>\n",
       "</tbody>\n",
       "</table>\n"
      ],
      "text/latex": [
       "A data.frame: 10 × 3\n",
       "\\begin{tabular}{r|lll}\n",
       "  & CROP\\_TYPE & PRICE\\_PERMIT & YEAR\\\\\n",
       "  & <fct> & <dbl> & <date>\\\\\n",
       "\\hline\n",
       "\t1 & Canola & 350.04 & 1985-03-01\\\\\n",
       "\t2 & Canola & 350.47 & 1985-06-01\\\\\n",
       "\t3 & Canola & 350.72 & 1995-08-01\\\\\n",
       "\t4 & Canola & 351.92 & 1999-02-01\\\\\n",
       "\t5 & Canola & 352.03 & 1997-10-01\\\\\n",
       "\t6 & Canola & 352.34 & 1998-10-01\\\\\n",
       "\t7 & Canola & 354.05 & 1988-07-01\\\\\n",
       "\t8 & Canola & 354.58 & 1985-05-01\\\\\n",
       "\t9 & Canola & 354.82 & 1988-07-01\\\\\n",
       "\t10 & Canola & 355.36 & 1998-01-01\\\\\n",
       "\\end{tabular}\n"
      ],
      "text/markdown": [
       "\n",
       "A data.frame: 10 × 3\n",
       "\n",
       "| <!--/--> | CROP_TYPE &lt;fct&gt; | PRICE_PERMIT &lt;dbl&gt; | YEAR &lt;date&gt; |\n",
       "|---|---|---|---|\n",
       "| 1 | Canola | 350.04 | 1985-03-01 |\n",
       "| 2 | Canola | 350.47 | 1985-06-01 |\n",
       "| 3 | Canola | 350.72 | 1995-08-01 |\n",
       "| 4 | Canola | 351.92 | 1999-02-01 |\n",
       "| 5 | Canola | 352.03 | 1997-10-01 |\n",
       "| 6 | Canola | 352.34 | 1998-10-01 |\n",
       "| 7 | Canola | 354.05 | 1988-07-01 |\n",
       "| 8 | Canola | 354.58 | 1985-05-01 |\n",
       "| 9 | Canola | 354.82 | 1988-07-01 |\n",
       "| 10 | Canola | 355.36 | 1998-01-01 |\n",
       "\n"
      ],
      "text/plain": [
       "   CROP_TYPE PRICE_PERMIT YEAR      \n",
       "1  Canola    350.04       1985-03-01\n",
       "2  Canola    350.47       1985-06-01\n",
       "3  Canola    350.72       1995-08-01\n",
       "4  Canola    351.92       1999-02-01\n",
       "5  Canola    352.03       1997-10-01\n",
       "6  Canola    352.34       1998-10-01\n",
       "7  Canola    354.05       1988-07-01\n",
       "8  Canola    354.58       1985-05-01\n",
       "9  Canola    354.82       1988-07-01\n",
       "10 Canola    355.36       1998-01-01"
      ]
     },
     "metadata": {},
     "output_type": "display_data"
    }
   ],
   "source": [
    "query = \"SELECT CROP_TYPE,PRICE_PERMIT,YEAR\n",
    " FROM FARM_PRICES\n",
    "WHERE PRICE_PERMIT>=350 ORDER BY PRICE_PERMIT LIMIT 10\"\n",
    "sqlQuery(conn,query)\n",
    "        "
   ]
  },
  {
   "cell_type": "code",
   "execution_count": 282,
   "id": "0c575599",
   "metadata": {
    "tags": []
   },
   "outputs": [
    {
     "data": {
      "text/html": [
       "<table>\n",
       "<caption>A data.frame: 1 × 3</caption>\n",
       "<thead>\n",
       "\t<tr><th></th><th scope=col>GEO</th><th scope=col>CROP_TYPE</th><th scope=col>AVG_YIELD</th></tr>\n",
       "\t<tr><th></th><th scope=col>&lt;fct&gt;</th><th scope=col>&lt;fct&gt;</th><th scope=col>&lt;int&gt;</th></tr>\n",
       "</thead>\n",
       "<tbody>\n",
       "\t<tr><th scope=row>1</th><td>Alberta</td><td>Barley</td><td>4100</td></tr>\n",
       "</tbody>\n",
       "</table>\n"
      ],
      "text/latex": [
       "A data.frame: 1 × 3\n",
       "\\begin{tabular}{r|lll}\n",
       "  & GEO & CROP\\_TYPE & AVG\\_YIELD\\\\\n",
       "  & <fct> & <fct> & <int>\\\\\n",
       "\\hline\n",
       "\t1 & Alberta & Barley & 4100\\\\\n",
       "\\end{tabular}\n"
      ],
      "text/markdown": [
       "\n",
       "A data.frame: 1 × 3\n",
       "\n",
       "| <!--/--> | GEO &lt;fct&gt; | CROP_TYPE &lt;fct&gt; | AVG_YIELD &lt;int&gt; |\n",
       "|---|---|---|---|\n",
       "| 1 | Alberta | Barley | 4100 |\n",
       "\n"
      ],
      "text/plain": [
       "  GEO     CROP_TYPE AVG_YIELD\n",
       "1 Alberta Barley    4100     "
      ]
     },
     "metadata": {},
     "output_type": "display_data"
    }
   ],
   "source": [
    "query = \"SELECT DISTINCT(GEO),CROP_TYPE,AVG_YIELD\n",
    "    FROM CROP_DATA \n",
    "    WHERE YEAR(YEAR)>=2000\n",
    "    ORDER BY AVG_YIELD DESC\n",
    "LIMIT 01\n",
    ";\"\n",
    "sqlQuery(conn,query)\n",
    "        "
   ]
  },
  {
   "cell_type": "code",
   "execution_count": 39,
   "id": "cf95ab28-bce7-4ef4-8fff-0d443afe94bb",
   "metadata": {
    "tags": []
   },
   "outputs": [
    {
     "data": {
      "text/html": [
       "<table>\n",
       "<caption>A data.frame: 4 × 2</caption>\n",
       "<thead>\n",
       "\t<tr><th></th><th scope=col>CROP_RANK</th><th scope=col>AVG_YIELD_YEAR_2000</th></tr>\n",
       "\t<tr><th></th><th scope=col>&lt;fct&gt;</th><th scope=col>&lt;int&gt;</th></tr>\n",
       "</thead>\n",
       "<tbody>\n",
       "\t<tr><th scope=row>1</th><td>Barley</td><td>2800</td></tr>\n",
       "\t<tr><th scope=row>2</th><td>Wheat </td><td>2200</td></tr>\n",
       "\t<tr><th scope=row>3</th><td>Rye   </td><td>2100</td></tr>\n",
       "\t<tr><th scope=row>4</th><td>Canola</td><td>1400</td></tr>\n",
       "</tbody>\n",
       "</table>\n"
      ],
      "text/latex": [
       "A data.frame: 4 × 2\n",
       "\\begin{tabular}{r|ll}\n",
       "  & CROP\\_RANK & AVG\\_YIELD\\_YEAR\\_2000\\\\\n",
       "  & <fct> & <int>\\\\\n",
       "\\hline\n",
       "\t1 & Barley & 2800\\\\\n",
       "\t2 & Wheat  & 2200\\\\\n",
       "\t3 & Rye    & 2100\\\\\n",
       "\t4 & Canola & 1400\\\\\n",
       "\\end{tabular}\n"
      ],
      "text/markdown": [
       "\n",
       "A data.frame: 4 × 2\n",
       "\n",
       "| <!--/--> | CROP_RANK &lt;fct&gt; | AVG_YIELD_YEAR_2000 &lt;int&gt; |\n",
       "|---|---|---|\n",
       "| 1 | Barley | 2800 |\n",
       "| 2 | Wheat  | 2200 |\n",
       "| 3 | Rye    | 2100 |\n",
       "| 4 | Canola | 1400 |\n",
       "\n"
      ],
      "text/plain": [
       "  CROP_RANK AVG_YIELD_YEAR_2000\n",
       "1 Barley    2800               \n",
       "2 Wheat     2200               \n",
       "3 Rye       2100               \n",
       "4 Canola    1400               "
      ]
     },
     "metadata": {},
     "output_type": "display_data"
    }
   ],
   "source": [
    "query = \"SELECT CROP_TYPE AS CROP_RANK, MAX(AVG_YIELD)AS AVG_YIELD_YEAR_2000 \n",
    "FROM CROP_DATA \n",
    "WHERE YEAR(YEAR)=2000 AND GEO='Saskatchewan' \n",
    "GROUP BY CROP_TYPE \n",
    "ORDER BY AVG_YIELD_YEAR_2000 desc\"\n",
    "sqlQuery(conn,query)"
   ]
  },
  {
   "cell_type": "code",
   "execution_count": 313,
   "id": "86a1a186-2c02-43da-8feb-71dca2a5366f",
   "metadata": {
    "tags": []
   },
   "outputs": [
    {
     "data": {
      "text/html": [
       "<table>\n",
       "<caption>A data.frame: 1 × 1</caption>\n",
       "<thead>\n",
       "\t<tr><th></th><th scope=col>TOTAL_WHEAT_HARVEST</th></tr>\n",
       "\t<tr><th></th><th scope=col>&lt;int&gt;</th></tr>\n",
       "</thead>\n",
       "<tbody>\n",
       "\t<tr><th scope=row>1</th><td>10017800</td></tr>\n",
       "</tbody>\n",
       "</table>\n"
      ],
      "text/latex": [
       "A data.frame: 1 × 1\n",
       "\\begin{tabular}{r|l}\n",
       "  & TOTAL\\_WHEAT\\_HARVEST\\\\\n",
       "  & <int>\\\\\n",
       "\\hline\n",
       "\t1 & 10017800\\\\\n",
       "\\end{tabular}\n"
      ],
      "text/markdown": [
       "\n",
       "A data.frame: 1 × 1\n",
       "\n",
       "| <!--/--> | TOTAL_WHEAT_HARVEST &lt;int&gt; |\n",
       "|---|---|\n",
       "| 1 | 10017800 |\n",
       "\n"
      ],
      "text/plain": [
       "  TOTAL_WHEAT_HARVEST\n",
       "1 10017800           "
      ]
     },
     "metadata": {},
     "output_type": "display_data"
    }
   ],
   "source": [
    "query = \"SELECT SUM(HARVESTED_AREA) AS total_wheat_harvest\n",
    "  FROM CROP_DATA\n",
    "  WHERE YEAR = (SELECT MAX(YEAR) FROM CROP_DATA)\n",
    " AND CROP_TYPE = 'Wheat'\n",
    "  AND GEO = 'Canada'\n",
    ";\"\n",
    "sqlQuery(conn,query)"
   ]
  },
  {
   "cell_type": "code",
   "execution_count": null,
   "id": "3dd65c45-034a-4472-af05-68a946689dba",
   "metadata": {},
   "outputs": [],
   "source": []
  },
  {
   "cell_type": "code",
   "execution_count": 315,
   "id": "d85b3797-f8b8-4824-aba7-99d992165b2a",
   "metadata": {
    "tags": []
   },
   "outputs": [
    {
     "data": {
      "text/html": [
       "<table>\n",
       "<caption>A data.frame: 0 × 9</caption>\n",
       "<thead>\n",
       "\t<tr><th scope=col>CD_ID</th><th scope=col>YEAR</th><th scope=col>CROP_TYPE</th><th scope=col>GEO</th><th scope=col>SEEDED_AREA</th><th scope=col>HARVESTED_AREA</th><th scope=col>PRODUCTION</th><th scope=col>AVG_YIELD</th><th scope=col>FXUSDCAD</th></tr>\n",
       "\t<tr><th scope=col>&lt;int&gt;</th><th scope=col>&lt;chr&gt;</th><th scope=col>&lt;chr&gt;</th><th scope=col>&lt;chr&gt;</th><th scope=col>&lt;int&gt;</th><th scope=col>&lt;int&gt;</th><th scope=col>&lt;int&gt;</th><th scope=col>&lt;int&gt;</th><th scope=col>&lt;dbl&gt;</th></tr>\n",
       "</thead>\n",
       "<tbody>\n",
       "</tbody>\n",
       "</table>\n"
      ],
      "text/latex": [
       "A data.frame: 0 × 9\n",
       "\\begin{tabular}{lllllllll}\n",
       " CD\\_ID & YEAR & CROP\\_TYPE & GEO & SEEDED\\_AREA & HARVESTED\\_AREA & PRODUCTION & AVG\\_YIELD & FXUSDCAD\\\\\n",
       " <int> & <chr> & <chr> & <chr> & <int> & <int> & <int> & <int> & <dbl>\\\\\n",
       "\\hline\n",
       "\\end{tabular}\n"
      ],
      "text/markdown": [
       "\n",
       "A data.frame: 0 × 9\n",
       "\n",
       "| CD_ID &lt;int&gt; | YEAR &lt;chr&gt; | CROP_TYPE &lt;chr&gt; | GEO &lt;chr&gt; | SEEDED_AREA &lt;int&gt; | HARVESTED_AREA &lt;int&gt; | PRODUCTION &lt;int&gt; | AVG_YIELD &lt;int&gt; | FXUSDCAD &lt;dbl&gt; |\n",
       "|---|---|---|---|---|---|---|---|---|\n",
       "\n"
      ],
      "text/plain": [
       "     CD_ID YEAR CROP_TYPE GEO SEEDED_AREA HARVESTED_AREA PRODUCTION AVG_YIELD\n",
       "     FXUSDCAD"
      ]
     },
     "metadata": {},
     "output_type": "display_data"
    }
   ],
   "source": [
    "query =\"SELECT CD_ID, YEAR, CROP_TYPE, GEO, SEEDED_AREA, HARVESTED_AREA, PRODUCTION, AVG_YIELD, FXUSDCAD  \n",
    "    FROM CROP_DATA, MONTHLY_FX \n",
    "    WHERE YEAR(CROP_DATA.YEAR)=YEAR(MONTHLY_FX.DATE) AND MONTH(CROP_DATA.YEAR)=MONTH(MONTHLY_FX.DATE)\n",
    "    LIMIT 5;\"\n",
    "sqlQuery(conn,query)"
   ]
  },
  {
   "cell_type": "code",
   "execution_count": 316,
   "id": "9de1814a-0927-4336-8efb-6771dad065f2",
   "metadata": {
    "tags": []
   },
   "outputs": [
    {
     "data": {
      "text/html": [
       "<table>\n",
       "<caption>A data.frame: 1 × 2</caption>\n",
       "<thead>\n",
       "\t<tr><th></th><th scope=col>MOST_RECENT_YEAR</th><th scope=col>TOT_HARVESTED_WHEAT_CANADA</th></tr>\n",
       "\t<tr><th></th><th scope=col>&lt;date&gt;</th><th scope=col>&lt;int&gt;</th></tr>\n",
       "</thead>\n",
       "<tbody>\n",
       "\t<tr><th scope=row>1</th><td>2020-12-31</td><td>38897100</td></tr>\n",
       "</tbody>\n",
       "</table>\n"
      ],
      "text/latex": [
       "A data.frame: 1 × 2\n",
       "\\begin{tabular}{r|ll}\n",
       "  & MOST\\_RECENT\\_YEAR & TOT\\_HARVESTED\\_WHEAT\\_CANADA\\\\\n",
       "  & <date> & <int>\\\\\n",
       "\\hline\n",
       "\t1 & 2020-12-31 & 38897100\\\\\n",
       "\\end{tabular}\n"
      ],
      "text/markdown": [
       "\n",
       "A data.frame: 1 × 2\n",
       "\n",
       "| <!--/--> | MOST_RECENT_YEAR &lt;date&gt; | TOT_HARVESTED_WHEAT_CANADA &lt;int&gt; |\n",
       "|---|---|---|\n",
       "| 1 | 2020-12-31 | 38897100 |\n",
       "\n"
      ],
      "text/plain": [
       "  MOST_RECENT_YEAR TOT_HARVESTED_WHEAT_CANADA\n",
       "1 2020-12-31       38897100                  "
      ]
     },
     "metadata": {},
     "output_type": "display_data"
    }
   ],
   "source": [
    "query =\"SELECT MAX(YEAR) AS MOST_RECENT_YEAR, \n",
    "SUM(HARVESTED_AREA) AS TOT_HARVESTED_WHEAT_CANADA \n",
    "FROM CROP_DATA\n",
    "WHERE YEAR(YEAR)=(SELECT MAX(YEAR(YEAR))FROM CROP_DATA \n",
    "WHERE GEO = 'Canada' AND CROP_TYPE  = 'Wheat')\"\n",
    "sqlQuery(conn,query)"
   ]
  },
  {
   "cell_type": "code",
   "execution_count": 324,
   "id": "fd80f001-8a5f-4cc6-9c53-456a82578cc0",
   "metadata": {
    "tags": []
   },
   "outputs": [
    {
     "data": {
      "text/html": [
       "<table>\n",
       "<caption>A data.frame: 0 × 6</caption>\n",
       "<thead>\n",
       "\t<tr><th scope=col>DATE</th><th scope=col>CROP_TYPE</th><th scope=col>GEO</th><th scope=col>CANADIAN_DOLLARS</th><th scope=col>US_DOLLARS</th><th scope=col>FXUSDCAD</th></tr>\n",
       "\t<tr><th scope=col>&lt;chr&gt;</th><th scope=col>&lt;chr&gt;</th><th scope=col>&lt;chr&gt;</th><th scope=col>&lt;dbl&gt;</th><th scope=col>&lt;dbl&gt;</th><th scope=col>&lt;dbl&gt;</th></tr>\n",
       "</thead>\n",
       "<tbody>\n",
       "</tbody>\n",
       "</table>\n"
      ],
      "text/latex": [
       "A data.frame: 0 × 6\n",
       "\\begin{tabular}{llllll}\n",
       " DATE & CROP\\_TYPE & GEO & CANADIAN\\_DOLLARS & US\\_DOLLARS & FXUSDCAD\\\\\n",
       " <chr> & <chr> & <chr> & <dbl> & <dbl> & <dbl>\\\\\n",
       "\\hline\n",
       "\\end{tabular}\n"
      ],
      "text/markdown": [
       "\n",
       "A data.frame: 0 × 6\n",
       "\n",
       "| DATE &lt;chr&gt; | CROP_TYPE &lt;chr&gt; | GEO &lt;chr&gt; | CANADIAN_DOLLARS &lt;dbl&gt; | US_DOLLARS &lt;dbl&gt; | FXUSDCAD &lt;dbl&gt; |\n",
       "|---|---|---|---|---|---|\n",
       "\n"
      ],
      "text/plain": [
       "     DATE CROP_TYPE GEO CANADIAN_DOLLARS US_DOLLARS FXUSDCAD"
      ]
     },
     "metadata": {},
     "output_type": "display_data"
    }
   ],
   "source": [
    "query = \"SELECT DATE,CROP_TYPE,GEO,PRICE_PERMIT AS CANADIAN_DOLLARS, \n",
    "(PRICE_PERMIT/FXUSDCAD) AS US_DOLLARS, FXUSDCAD \n",
    "FROM FARM_PRICES , MONTHLY_FX  \n",
    "WHERE YEAR(DATE) = YEAR(DATE) \n",
    "AND MONTH(DATE) = MONTH(DATE) \n",
    "AND CROP_TYPE ='Canola' \n",
    "AND GEO = 'Saskatchewan' \n",
    "ORDER BY DATE DESC LIMIT 6\"\n",
    "sqlQuery(conn,query)"
   ]
  },
  {
   "cell_type": "code",
   "execution_count": 16,
   "id": "1edd2e64-96bb-4c47-85a0-c1195d069b66",
   "metadata": {
    "tags": []
   },
   "outputs": [
    {
     "data": {
      "text/html": [
       "<table>\n",
       "<caption>A data.frame: 1 × 1</caption>\n",
       "<thead>\n",
       "\t<tr><th></th><th scope=col>CANADA_HARVESTED_RYE_1968</th></tr>\n",
       "\t<tr><th></th><th scope=col>&lt;int&gt;</th></tr>\n",
       "</thead>\n",
       "<tbody>\n",
       "\t<tr><th scope=row>1</th><td>274100</td></tr>\n",
       "</tbody>\n",
       "</table>\n"
      ],
      "text/latex": [
       "A data.frame: 1 × 1\n",
       "\\begin{tabular}{r|l}\n",
       "  & CANADA\\_HARVESTED\\_RYE\\_1968\\\\\n",
       "  & <int>\\\\\n",
       "\\hline\n",
       "\t1 & 274100\\\\\n",
       "\\end{tabular}\n"
      ],
      "text/markdown": [
       "\n",
       "A data.frame: 1 × 1\n",
       "\n",
       "| <!--/--> | CANADA_HARVESTED_RYE_1968 &lt;int&gt; |\n",
       "|---|---|\n",
       "| 1 | 274100 |\n",
       "\n"
      ],
      "text/plain": [
       "  CANADA_HARVESTED_RYE_1968\n",
       "1 274100                   "
      ]
     },
     "metadata": {},
     "output_type": "display_data"
    }
   ],
   "source": [
    "query = \"SELECT SUM(HARVESTED_AREA) AS CANADA_HARVESTED_RYE_1968 FROM CROP_DATA\n",
    "WHERE GEO = 'Canada' AND CROP_TYPE = 'Rye' AND YEAR(YEAR) = 1968\"\n",
    "sqlQuery(conn,query)"
   ]
  },
  {
   "cell_type": "code",
   "execution_count": 43,
   "id": "62791c16-cee3-4e9f-a8cc-b2ae898ce6cf",
   "metadata": {
    "tags": []
   },
   "outputs": [
    {
     "data": {
      "text/html": [
       "<table>\n",
       "<caption>A data.frame: 5 × 3</caption>\n",
       "<thead>\n",
       "\t<tr><th></th><th scope=col>CROP_TYPE</th><th scope=col>GEO</th><th scope=col>AVG_YIELD</th></tr>\n",
       "\t<tr><th></th><th scope=col>&lt;fct&gt;</th><th scope=col>&lt;fct&gt;</th><th scope=col>&lt;int&gt;</th></tr>\n",
       "</thead>\n",
       "<tbody>\n",
       "\t<tr><th scope=row>1</th><td>Barley</td><td>Alberta</td><td>4100</td></tr>\n",
       "\t<tr><th scope=row>2</th><td>Barley</td><td>Alberta</td><td>4100</td></tr>\n",
       "\t<tr><th scope=row>3</th><td>Barley</td><td>Alberta</td><td>3980</td></tr>\n",
       "\t<tr><th scope=row>4</th><td>Wheat </td><td>Alberta</td><td>3900</td></tr>\n",
       "\t<tr><th scope=row>5</th><td>Barley</td><td>Canada </td><td>3900</td></tr>\n",
       "</tbody>\n",
       "</table>\n"
      ],
      "text/latex": [
       "A data.frame: 5 × 3\n",
       "\\begin{tabular}{r|lll}\n",
       "  & CROP\\_TYPE & GEO & AVG\\_YIELD\\\\\n",
       "  & <fct> & <fct> & <int>\\\\\n",
       "\\hline\n",
       "\t1 & Barley & Alberta & 4100\\\\\n",
       "\t2 & Barley & Alberta & 4100\\\\\n",
       "\t3 & Barley & Alberta & 3980\\\\\n",
       "\t4 & Wheat  & Alberta & 3900\\\\\n",
       "\t5 & Barley & Canada  & 3900\\\\\n",
       "\\end{tabular}\n"
      ],
      "text/markdown": [
       "\n",
       "A data.frame: 5 × 3\n",
       "\n",
       "| <!--/--> | CROP_TYPE &lt;fct&gt; | GEO &lt;fct&gt; | AVG_YIELD &lt;int&gt; |\n",
       "|---|---|---|---|\n",
       "| 1 | Barley | Alberta | 4100 |\n",
       "| 2 | Barley | Alberta | 4100 |\n",
       "| 3 | Barley | Alberta | 3980 |\n",
       "| 4 | Wheat  | Alberta | 3900 |\n",
       "| 5 | Barley | Canada  | 3900 |\n",
       "\n"
      ],
      "text/plain": [
       "  CROP_TYPE GEO     AVG_YIELD\n",
       "1 Barley    Alberta 4100     \n",
       "2 Barley    Alberta 4100     \n",
       "3 Barley    Alberta 3980     \n",
       "4 Wheat     Alberta 3900     \n",
       "5 Barley    Canada  3900     "
      ]
     },
     "metadata": {},
     "output_type": "display_data"
    }
   ],
   "source": [
    "query = \"SELECT CROP_TYPE, GEO, AVG_YIELD \n",
    "FROM CROP_DATA\n",
    "WHERE YEAR(YEAR) >=2000\n",
    "ORDER BY AVG_YIELD DESC LIMIT 5\"\n",
    "sqlQuery(conn,query)"
   ]
  },
  {
   "cell_type": "code",
   "execution_count": 44,
   "id": "a9bcc39c-1682-4bf2-b593-6ac39657c1b5",
   "metadata": {
    "tags": []
   },
   "outputs": [
    {
     "data": {
      "text/html": [
       "<table>\n",
       "<caption>A data.frame: 1 × 3</caption>\n",
       "<thead>\n",
       "\t<tr><th></th><th scope=col>CROP_TYPE</th><th scope=col>GEO</th><th scope=col>AVG_YIELD</th></tr>\n",
       "\t<tr><th></th><th scope=col>&lt;fct&gt;</th><th scope=col>&lt;fct&gt;</th><th scope=col>&lt;int&gt;</th></tr>\n",
       "</thead>\n",
       "<tbody>\n",
       "\t<tr><th scope=row>1</th><td>Barley</td><td>Alberta</td><td>4100</td></tr>\n",
       "</tbody>\n",
       "</table>\n"
      ],
      "text/latex": [
       "A data.frame: 1 × 3\n",
       "\\begin{tabular}{r|lll}\n",
       "  & CROP\\_TYPE & GEO & AVG\\_YIELD\\\\\n",
       "  & <fct> & <fct> & <int>\\\\\n",
       "\\hline\n",
       "\t1 & Barley & Alberta & 4100\\\\\n",
       "\\end{tabular}\n"
      ],
      "text/markdown": [
       "\n",
       "A data.frame: 1 × 3\n",
       "\n",
       "| <!--/--> | CROP_TYPE &lt;fct&gt; | GEO &lt;fct&gt; | AVG_YIELD &lt;int&gt; |\n",
       "|---|---|---|---|\n",
       "| 1 | Barley | Alberta | 4100 |\n",
       "\n"
      ],
      "text/plain": [
       "  CROP_TYPE GEO     AVG_YIELD\n",
       "1 Barley    Alberta 4100     "
      ]
     },
     "metadata": {},
     "output_type": "display_data"
    }
   ],
   "source": [
    "query = \"SELECT CROP_TYPE, GEO, AVG_YIELD \n",
    "FROM CROP_DATA\n",
    "WHERE YEAR(YEAR) >=2000\n",
    "ORDER BY AVG_YIELD DESC LIMIT 1\"\n",
    "sqlQuery(conn,query)"
   ]
  },
  {
   "cell_type": "code",
   "execution_count": 78,
   "id": "11b6c1ff-78dc-42ec-9c6e-29d57a264b53",
   "metadata": {
    "tags": []
   },
   "outputs": [
    {
     "data": {
      "text/html": [
       "<table>\n",
       "<caption>A data.frame: 1 × 2</caption>\n",
       "<thead>\n",
       "\t<tr><th></th><th scope=col>MOST_RECENT_YEAR</th><th scope=col>TOT_HARVESTED_WHEAT_CANADA</th></tr>\n",
       "\t<tr><th></th><th scope=col>&lt;date&gt;</th><th scope=col>&lt;int&gt;</th></tr>\n",
       "</thead>\n",
       "<tbody>\n",
       "\t<tr><th scope=row>1</th><td>2020-12-31</td><td>38897100</td></tr>\n",
       "</tbody>\n",
       "</table>\n"
      ],
      "text/latex": [
       "A data.frame: 1 × 2\n",
       "\\begin{tabular}{r|ll}\n",
       "  & MOST\\_RECENT\\_YEAR & TOT\\_HARVESTED\\_WHEAT\\_CANADA\\\\\n",
       "  & <date> & <int>\\\\\n",
       "\\hline\n",
       "\t1 & 2020-12-31 & 38897100\\\\\n",
       "\\end{tabular}\n"
      ],
      "text/markdown": [
       "\n",
       "A data.frame: 1 × 2\n",
       "\n",
       "| <!--/--> | MOST_RECENT_YEAR &lt;date&gt; | TOT_HARVESTED_WHEAT_CANADA &lt;int&gt; |\n",
       "|---|---|---|\n",
       "| 1 | 2020-12-31 | 38897100 |\n",
       "\n"
      ],
      "text/plain": [
       "  MOST_RECENT_YEAR TOT_HARVESTED_WHEAT_CANADA\n",
       "1 2020-12-31       38897100                  "
      ]
     },
     "metadata": {},
     "output_type": "display_data"
    }
   ],
   "source": [
    "query = \"SELECT MAX(YEAR) AS MOST_RECENT_YEAR, \n",
    "SUM(HARVESTED_AREA) AS TOT_HARVESTED_WHEAT_CANADA \n",
    "FROM CROP_DATA\n",
    "WHERE YEAR(YEAR)=(SELECT MAX(YEAR(YEAR))FROM CROP_DATA \n",
    "WHERE GEO = 'Canada' AND CROP_TYPE  = 'Wheat')\"\n",
    "sqlQuery(conn,query)"
   ]
  },
  {
   "cell_type": "code",
   "execution_count": 77,
   "id": "10751fbe-7b66-4868-b57d-4f2725f99aae",
   "metadata": {
    "tags": []
   },
   "outputs": [
    {
     "data": {
      "text/html": [
       "<style>\n",
       ".list-inline {list-style: none; margin:0; padding: 0}\n",
       ".list-inline>li {display: inline-block}\n",
       ".list-inline>li:not(:last-child)::after {content: \"\\00b7\"; padding: 0 .5ex}\n",
       "</style>\n",
       "<ol class=list-inline><li><span style=white-space:pre-wrap>'42S22 -206 [IBM][CLI Driver][DB2/LINUXX8664] SQL0206N  \"A.DATE\" is not valid in the context where it is used.  SQLSTATE=42703\\n'</span></li><li>'[RODBC] ERROR: Could not SQLExecDirect \\'SELECT A.DATE,A.CROP_TYPE,A.GEO,A.PRICE_PRERMT AS CANADIAN_DOLLARS, \\n(A.PRICE_PRERMT / B.FXUSDCAD) AS US_DOLLARS, B.FXUSDCAD \\nFROM FARM_PRICES A , MONTHLY_FX B \\nWHERE YEAR(A.DATE) = YEAR(B.DATE) \\nAND MONTH(A.DATE) = MONTH(B.DATE) \\nAND CROP_TYPE =\\'Canola\\' \\nAND GEO = \\'Saskatchewan\\' \\nORDER BY DATE DESC LIMIT 6\\''</li></ol>\n"
      ],
      "text/latex": [
       "\\begin{enumerate*}\n",
       "\\item '42S22 -206 {[}IBM{]}{[}CLI Driver{]}{[}DB2/LINUXX8664{]} SQL0206N  \"A.DATE\" is not valid in the context where it is used.  SQLSTATE=42703\\textbackslash{}n'\n",
       "\\item '{[}RODBC{]} ERROR: Could not SQLExecDirect \\textbackslash{}'SELECT A.DATE,A.CROP\\_TYPE,A.GEO,A.PRICE\\_PRERMT AS CANADIAN\\_DOLLARS, \\textbackslash{}n(A.PRICE\\_PRERMT / B.FXUSDCAD) AS US\\_DOLLARS, B.FXUSDCAD \\textbackslash{}nFROM FARM\\_PRICES A , MONTHLY\\_FX B \\textbackslash{}nWHERE YEAR(A.DATE) = YEAR(B.DATE) \\textbackslash{}nAND MONTH(A.DATE) = MONTH(B.DATE) \\textbackslash{}nAND CROP\\_TYPE =\\textbackslash{}'Canola\\textbackslash{}' \\textbackslash{}nAND GEO = \\textbackslash{}'Saskatchewan\\textbackslash{}' \\textbackslash{}nORDER BY DATE DESC LIMIT 6\\textbackslash{}''\n",
       "\\end{enumerate*}\n"
      ],
      "text/markdown": [
       "1. <span style=white-space:pre-wrap>'42S22 -206 [IBM][CLI Driver][DB2/LINUXX8664] SQL0206N  \"A.DATE\" is not valid in the context where it is used.  SQLSTATE=42703\\n'</span>\n",
       "2. '[RODBC] ERROR: Could not SQLExecDirect \\'SELECT A.DATE,A.CROP_TYPE,A.GEO,A.PRICE_PRERMT AS CANADIAN_DOLLARS, \\n(A.PRICE_PRERMT / B.FXUSDCAD) AS US_DOLLARS, B.FXUSDCAD \\nFROM FARM_PRICES A , MONTHLY_FX B \\nWHERE YEAR(A.DATE) = YEAR(B.DATE) \\nAND MONTH(A.DATE) = MONTH(B.DATE) \\nAND CROP_TYPE =\\'Canola\\' \\nAND GEO = \\'Saskatchewan\\' \\nORDER BY DATE DESC LIMIT 6\\''\n",
       "\n",
       "\n"
      ],
      "text/plain": [
       "[1] \"42S22 -206 [IBM][CLI Driver][DB2/LINUXX8664] SQL0206N  \\\"A.DATE\\\" is not valid in the context where it is used.  SQLSTATE=42703\\n\"                                                                                                                                                                                                                                   \n",
       "[2] \"[RODBC] ERROR: Could not SQLExecDirect 'SELECT A.DATE,A.CROP_TYPE,A.GEO,A.PRICE_PRERMT AS CANADIAN_DOLLARS, \\n(A.PRICE_PRERMT / B.FXUSDCAD) AS US_DOLLARS, B.FXUSDCAD \\nFROM FARM_PRICES A , MONTHLY_FX B \\nWHERE YEAR(A.DATE) = YEAR(B.DATE) \\nAND MONTH(A.DATE) = MONTH(B.DATE) \\nAND CROP_TYPE ='Canola' \\nAND GEO = 'Saskatchewan' \\nORDER BY DATE DESC LIMIT 6'\""
      ]
     },
     "metadata": {},
     "output_type": "display_data"
    }
   ],
   "source": [
    "query = \"SELECT A.DATE,A.CROP_TYPE,A.GEO,A.PRICE_PRERMT AS CANADIAN_DOLLARS, \n",
    "(A.PRICE_PRERMT / B.FXUSDCAD) AS US_DOLLARS, B.FXUSDCAD \n",
    "FROM FARM_PRICES A , MONTHLY_FX B \n",
    "WHERE YEAR(A.DATE) = YEAR(B.DATE) \n",
    "AND MONTH(A.DATE) = MONTH(B.DATE) \n",
    "AND CROP_TYPE ='Canola' \n",
    "AND GEO = 'Saskatchewan' \n",
    "ORDER BY DATE DESC LIMIT 6\"\n",
    "sqlQuery(conn,query)"
   ]
  },
  {
   "cell_type": "code",
   "execution_count": 79,
   "id": "37b4f67c-90b3-411d-8e5a-9ff7d1919980",
   "metadata": {
    "tags": []
   },
   "outputs": [
    {
     "data": {
      "text/html": [
       "<table>\n",
       "<caption>A data.frame: 0 × 6</caption>\n",
       "<thead>\n",
       "\t<tr><th scope=col>DATE</th><th scope=col>CROP_TYPE</th><th scope=col>GEO</th><th scope=col>CANADIAN_DOLLARS</th><th scope=col>US_DOLLARS</th><th scope=col>FXUSDCAD</th></tr>\n",
       "\t<tr><th scope=col>&lt;chr&gt;</th><th scope=col>&lt;chr&gt;</th><th scope=col>&lt;chr&gt;</th><th scope=col>&lt;dbl&gt;</th><th scope=col>&lt;dbl&gt;</th><th scope=col>&lt;dbl&gt;</th></tr>\n",
       "</thead>\n",
       "<tbody>\n",
       "</tbody>\n",
       "</table>\n"
      ],
      "text/latex": [
       "A data.frame: 0 × 6\n",
       "\\begin{tabular}{llllll}\n",
       " DATE & CROP\\_TYPE & GEO & CANADIAN\\_DOLLARS & US\\_DOLLARS & FXUSDCAD\\\\\n",
       " <chr> & <chr> & <chr> & <dbl> & <dbl> & <dbl>\\\\\n",
       "\\hline\n",
       "\\end{tabular}\n"
      ],
      "text/markdown": [
       "\n",
       "A data.frame: 0 × 6\n",
       "\n",
       "| DATE &lt;chr&gt; | CROP_TYPE &lt;chr&gt; | GEO &lt;chr&gt; | CANADIAN_DOLLARS &lt;dbl&gt; | US_DOLLARS &lt;dbl&gt; | FXUSDCAD &lt;dbl&gt; |\n",
       "|---|---|---|---|---|---|\n",
       "\n"
      ],
      "text/plain": [
       "     DATE CROP_TYPE GEO CANADIAN_DOLLARS US_DOLLARS FXUSDCAD"
      ]
     },
     "metadata": {},
     "output_type": "display_data"
    }
   ],
   "source": [
    "query = \"SELECT DATE,CROP_TYPE,GEO,PRICE_PERMIT AS CANADIAN_DOLLARS, \n",
    "(PRICE_PERMIT/FXUSDCAD) AS US_DOLLARS, FXUSDCAD \n",
    "FROM FARM_PRICES , MONTHLY_FX   \n",
    "WHERE CROP_TYPE ='Canola' \n",
    "AND GEO = 'Saskatchewan' \n",
    "ORDER BY DATE DESC  \"\n",
    "sqlQuery(conn,query)"
   ]
  },
  {
   "cell_type": "code",
   "execution_count": 75,
   "id": "3eeef8b7-97d7-4244-9bba-de780f724bc3",
   "metadata": {
    "tags": []
   },
   "outputs": [
    {
     "data": {
      "text/html": [
       "<style>\n",
       ".list-inline {list-style: none; margin:0; padding: 0}\n",
       ".list-inline>li {display: inline-block}\n",
       ".list-inline>li:not(:last-child)::after {content: \"\\00b7\"; padding: 0 .5ex}\n",
       "</style>\n",
       "<ol class=list-inline><li><span style=white-space:pre-wrap>'42S02 -204 [IBM][CLI Driver][DB2/LINUXX8664] SQL0204N  \"FBK74002.EXCHANGE_RATES\" is an undefined name.  SQLSTATE=42704\\n'</span></li><li><span style=white-space:pre-wrap>'[RODBC] ERROR: Could not SQLExecDirect \\'SELECT\\n    date,\\n    price_permit AS canadian_dollar_price,\\n    FXUSDCAD * er.exchange_rate AS us_dollar_price\\nFROM\\n    FARM_PRICES\\nJOIN\\n    exchange_rates er ON cp.date = er.date\\nWHERE\\n    cp.province = \\'Saskatchewan\\'\\n    AND cp.currency = \\'CAD\\'\\n    AND er.currency = \\'USD\\'\\n    AND cp.date &gt;= DATEADD(MONTH, -6, GETDATE())\\nORDER BY\\n    cp.date DESC\\''</span></li></ol>\n"
      ],
      "text/latex": [
       "\\begin{enumerate*}\n",
       "\\item '42S02 -204 {[}IBM{]}{[}CLI Driver{]}{[}DB2/LINUXX8664{]} SQL0204N  \"FBK74002.EXCHANGE\\_RATES\" is an undefined name.  SQLSTATE=42704\\textbackslash{}n'\n",
       "\\item '{[}RODBC{]} ERROR: Could not SQLExecDirect \\textbackslash{}'SELECT\\textbackslash{}n    date,\\textbackslash{}n    price\\_permit AS canadian\\_dollar\\_price,\\textbackslash{}n    FXUSDCAD * er.exchange\\_rate AS us\\_dollar\\_price\\textbackslash{}nFROM\\textbackslash{}n    FARM\\_PRICES\\textbackslash{}nJOIN\\textbackslash{}n    exchange\\_rates er ON cp.date = er.date\\textbackslash{}nWHERE\\textbackslash{}n    cp.province = \\textbackslash{}'Saskatchewan\\textbackslash{}'\\textbackslash{}n    AND cp.currency = \\textbackslash{}'CAD\\textbackslash{}'\\textbackslash{}n    AND er.currency = \\textbackslash{}'USD\\textbackslash{}'\\textbackslash{}n    AND cp.date >= DATEADD(MONTH, -6, GETDATE())\\textbackslash{}nORDER BY\\textbackslash{}n    cp.date DESC\\textbackslash{}''\n",
       "\\end{enumerate*}\n"
      ],
      "text/markdown": [
       "1. <span style=white-space:pre-wrap>'42S02 -204 [IBM][CLI Driver][DB2/LINUXX8664] SQL0204N  \"FBK74002.EXCHANGE_RATES\" is an undefined name.  SQLSTATE=42704\\n'</span>\n",
       "2. <span style=white-space:pre-wrap>'[RODBC] ERROR: Could not SQLExecDirect \\'SELECT\\n    date,\\n    price_permit AS canadian_dollar_price,\\n    FXUSDCAD * er.exchange_rate AS us_dollar_price\\nFROM\\n    FARM_PRICES\\nJOIN\\n    exchange_rates er ON cp.date = er.date\\nWHERE\\n    cp.province = \\'Saskatchewan\\'\\n    AND cp.currency = \\'CAD\\'\\n    AND er.currency = \\'USD\\'\\n    AND cp.date &gt;= DATEADD(MONTH, -6, GETDATE())\\nORDER BY\\n    cp.date DESC\\''</span>\n",
       "\n",
       "\n"
      ],
      "text/plain": [
       "[1] \"42S02 -204 [IBM][CLI Driver][DB2/LINUXX8664] SQL0204N  \\\"FBK74002.EXCHANGE_RATES\\\" is an undefined name.  SQLSTATE=42704\\n\"                                                                                                                                                                                                                                                                                          \n",
       "[2] \"[RODBC] ERROR: Could not SQLExecDirect 'SELECT\\n    date,\\n    price_permit AS canadian_dollar_price,\\n    FXUSDCAD * er.exchange_rate AS us_dollar_price\\nFROM\\n    FARM_PRICES\\nJOIN\\n    exchange_rates er ON cp.date = er.date\\nWHERE\\n    cp.province = 'Saskatchewan'\\n    AND cp.currency = 'CAD'\\n    AND er.currency = 'USD'\\n    AND cp.date >= DATEADD(MONTH, -6, GETDATE())\\nORDER BY\\n    cp.date DESC'\""
      ]
     },
     "metadata": {},
     "output_type": "display_data"
    }
   ],
   "source": [
    "query=\"SELECT\n",
    "    date,\n",
    "    price_permit AS canadian_dollar_price,\n",
    "    FXUSDCAD * er.exchange_rate AS us_dollar_price\n",
    "FROM\n",
    "    FARM_PRICES\n",
    "JOIN\n",
    "    exchange_rates er ON cp.date = er.date\n",
    "WHERE\n",
    "    cp.province = 'Saskatchewan'\n",
    "    AND cp.currency = 'CAD'\n",
    "    AND er.currency = 'USD'\n",
    "    AND cp.date >= DATEADD(MONTH, -6, GETDATE())\n",
    "ORDER BY\n",
    "    cp.date DESC\";\n",
    "sqlQuery(conn,query)"
   ]
  },
  {
   "cell_type": "code",
   "execution_count": 67,
   "id": "3f69b15c-2bd3-410c-8dbb-432916b37294",
   "metadata": {
    "tags": []
   },
   "outputs": [
    {
     "data": {
      "text/html": [
       "<table>\n",
       "<caption>A data.frame: 21600 × 6</caption>\n",
       "<thead>\n",
       "\t<tr><th></th><th scope=col>DATE</th><th scope=col>CROP_TYPE</th><th scope=col>GEO</th><th scope=col>CANADIAN_DOLLARS</th><th scope=col>US_DOLLARS</th><th scope=col>FXUSDCAD</th></tr>\n",
       "\t<tr><th></th><th scope=col>&lt;date&gt;</th><th scope=col>&lt;fct&gt;</th><th scope=col>&lt;fct&gt;</th><th scope=col>&lt;dbl&gt;</th><th scope=col>&lt;dbl&gt;</th><th scope=col>&lt;dbl&gt;</th></tr>\n",
       "</thead>\n",
       "<tbody>\n",
       "\t<tr><th scope=row>1</th><td>2017-01-01</td><td>Canola</td><td>Saskatchewan</td><td>339.82</td><td>257.5807</td><td>1.319276</td></tr>\n",
       "\t<tr><th scope=row>2</th><td>2017-02-01</td><td>Canola</td><td>Saskatchewan</td><td>339.82</td><td>259.2609</td><td>1.310726</td></tr>\n",
       "\t<tr><th scope=row>3</th><td>2017-03-01</td><td>Canola</td><td>Saskatchewan</td><td>339.82</td><td>253.8541</td><td>1.338643</td></tr>\n",
       "\t<tr><th scope=row>4</th><td>2017-04-01</td><td>Canola</td><td>Saskatchewan</td><td>339.82</td><td>252.8383</td><td>1.344021</td></tr>\n",
       "\t<tr><th scope=row>5</th><td>2017-05-01</td><td>Canola</td><td>Saskatchewan</td><td>339.82</td><td>249.7382</td><td>1.360705</td></tr>\n",
       "\t<tr><th scope=row>6</th><td>2017-06-01</td><td>Canola</td><td>Saskatchewan</td><td>339.82</td><td>255.5412</td><td>1.329805</td></tr>\n",
       "\t<tr><th scope=row>7</th><td>2017-07-01</td><td>Canola</td><td>Saskatchewan</td><td>339.82</td><td>267.8120</td><td>1.268875</td></tr>\n",
       "\t<tr><th scope=row>8</th><td>2017-08-01</td><td>Canola</td><td>Saskatchewan</td><td>339.82</td><td>269.5964</td><td>1.260477</td></tr>\n",
       "\t<tr><th scope=row>9</th><td>2017-09-01</td><td>Canola</td><td>Saskatchewan</td><td>339.82</td><td>276.6633</td><td>1.228280</td></tr>\n",
       "\t<tr><th scope=row>10</th><td>2017-10-01</td><td>Canola</td><td>Saskatchewan</td><td>339.82</td><td>269.5995</td><td>1.260462</td></tr>\n",
       "\t<tr><th scope=row>11</th><td>2017-11-01</td><td>Canola</td><td>Saskatchewan</td><td>339.82</td><td>266.1318</td><td>1.276886</td></tr>\n",
       "\t<tr><th scope=row>12</th><td>2017-12-01</td><td>Canola</td><td>Saskatchewan</td><td>339.82</td><td>266.0970</td><td>1.277053</td></tr>\n",
       "\t<tr><th scope=row>13</th><td>2018-01-01</td><td>Canola</td><td>Saskatchewan</td><td>339.82</td><td>273.4439</td><td>1.242741</td></tr>\n",
       "\t<tr><th scope=row>14</th><td>2018-02-01</td><td>Canola</td><td>Saskatchewan</td><td>339.82</td><td>269.9939</td><td>1.258621</td></tr>\n",
       "\t<tr><th scope=row>15</th><td>2018-03-01</td><td>Canola</td><td>Saskatchewan</td><td>339.82</td><td>262.7804</td><td>1.293171</td></tr>\n",
       "\t<tr><th scope=row>16</th><td>2018-04-01</td><td>Canola</td><td>Saskatchewan</td><td>339.82</td><td>266.8903</td><td>1.273257</td></tr>\n",
       "\t<tr><th scope=row>17</th><td>2018-05-01</td><td>Canola</td><td>Saskatchewan</td><td>339.82</td><td>263.9733</td><td>1.287327</td></tr>\n",
       "\t<tr><th scope=row>18</th><td>2018-06-01</td><td>Canola</td><td>Saskatchewan</td><td>339.82</td><td>258.8401</td><td>1.312857</td></tr>\n",
       "\t<tr><th scope=row>19</th><td>2018-07-01</td><td>Canola</td><td>Saskatchewan</td><td>339.82</td><td>258.8099</td><td>1.313010</td></tr>\n",
       "\t<tr><th scope=row>20</th><td>2018-08-01</td><td>Canola</td><td>Saskatchewan</td><td>339.82</td><td>260.5746</td><td>1.304118</td></tr>\n",
       "\t<tr><th scope=row>21</th><td>2018-09-01</td><td>Canola</td><td>Saskatchewan</td><td>339.82</td><td>260.6675</td><td>1.303653</td></tr>\n",
       "\t<tr><th scope=row>22</th><td>2018-10-01</td><td>Canola</td><td>Saskatchewan</td><td>339.82</td><td>261.2081</td><td>1.300955</td></tr>\n",
       "\t<tr><th scope=row>23</th><td>2018-11-01</td><td>Canola</td><td>Saskatchewan</td><td>339.82</td><td>257.4320</td><td>1.320038</td></tr>\n",
       "\t<tr><th scope=row>24</th><td>2018-12-01</td><td>Canola</td><td>Saskatchewan</td><td>339.82</td><td>252.9959</td><td>1.343184</td></tr>\n",
       "\t<tr><th scope=row>25</th><td>2019-01-01</td><td>Canola</td><td>Saskatchewan</td><td>339.82</td><td>255.4845</td><td>1.330100</td></tr>\n",
       "\t<tr><th scope=row>26</th><td>2019-02-01</td><td>Canola</td><td>Saskatchewan</td><td>339.82</td><td>257.3306</td><td>1.320558</td></tr>\n",
       "\t<tr><th scope=row>27</th><td>2019-03-01</td><td>Canola</td><td>Saskatchewan</td><td>339.82</td><td>254.2004</td><td>1.336819</td></tr>\n",
       "\t<tr><th scope=row>28</th><td>2019-04-01</td><td>Canola</td><td>Saskatchewan</td><td>339.82</td><td>254.0195</td><td>1.337771</td></tr>\n",
       "\t<tr><th scope=row>29</th><td>2019-05-01</td><td>Canola</td><td>Saskatchewan</td><td>339.82</td><td>252.4844</td><td>1.345905</td></tr>\n",
       "\t<tr><th scope=row>30</th><td>2019-06-01</td><td>Canola</td><td>Saskatchewan</td><td>339.82</td><td>255.7480</td><td>1.328730</td></tr>\n",
       "\t<tr><th scope=row>⋮</th><td>⋮</td><td>⋮</td><td>⋮</td><td>⋮</td><td>⋮</td><td>⋮</td></tr>\n",
       "\t<tr><th scope=row>21571</th><td>2018-09-01</td><td>Canola</td><td>Saskatchewan</td><td>507.33</td><td>389.1603</td><td>1.303653</td></tr>\n",
       "\t<tr><th scope=row>21572</th><td>2018-10-01</td><td>Canola</td><td>Saskatchewan</td><td>507.33</td><td>389.9674</td><td>1.300955</td></tr>\n",
       "\t<tr><th scope=row>21573</th><td>2018-11-01</td><td>Canola</td><td>Saskatchewan</td><td>507.33</td><td>384.3299</td><td>1.320038</td></tr>\n",
       "\t<tr><th scope=row>21574</th><td>2018-12-01</td><td>Canola</td><td>Saskatchewan</td><td>507.33</td><td>377.7070</td><td>1.343184</td></tr>\n",
       "\t<tr><th scope=row>21575</th><td>2019-01-01</td><td>Canola</td><td>Saskatchewan</td><td>507.33</td><td>381.4224</td><td>1.330100</td></tr>\n",
       "\t<tr><th scope=row>21576</th><td>2019-02-01</td><td>Canola</td><td>Saskatchewan</td><td>507.33</td><td>384.1785</td><td>1.320558</td></tr>\n",
       "\t<tr><th scope=row>21577</th><td>2019-03-01</td><td>Canola</td><td>Saskatchewan</td><td>507.33</td><td>379.5054</td><td>1.336819</td></tr>\n",
       "\t<tr><th scope=row>21578</th><td>2019-04-01</td><td>Canola</td><td>Saskatchewan</td><td>507.33</td><td>379.2353</td><td>1.337771</td></tr>\n",
       "\t<tr><th scope=row>21579</th><td>2019-05-01</td><td>Canola</td><td>Saskatchewan</td><td>507.33</td><td>376.9434</td><td>1.345905</td></tr>\n",
       "\t<tr><th scope=row>21580</th><td>2019-06-01</td><td>Canola</td><td>Saskatchewan</td><td>507.33</td><td>381.8157</td><td>1.328730</td></tr>\n",
       "\t<tr><th scope=row>21581</th><td>2019-07-01</td><td>Canola</td><td>Saskatchewan</td><td>507.33</td><td>387.2438</td><td>1.310105</td></tr>\n",
       "\t<tr><th scope=row>21582</th><td>2019-08-01</td><td>Canola</td><td>Saskatchewan</td><td>507.33</td><td>382.0981</td><td>1.327748</td></tr>\n",
       "\t<tr><th scope=row>21583</th><td>2019-09-01</td><td>Canola</td><td>Saskatchewan</td><td>507.33</td><td>383.1653</td><td>1.324050</td></tr>\n",
       "\t<tr><th scope=row>21584</th><td>2019-10-01</td><td>Canola</td><td>Saskatchewan</td><td>507.33</td><td>384.6390</td><td>1.318977</td></tr>\n",
       "\t<tr><th scope=row>21585</th><td>2019-11-01</td><td>Canola</td><td>Saskatchewan</td><td>507.33</td><td>383.2145</td><td>1.323880</td></tr>\n",
       "\t<tr><th scope=row>21586</th><td>2019-12-01</td><td>Canola</td><td>Saskatchewan</td><td>507.33</td><td>385.1667</td><td>1.317170</td></tr>\n",
       "\t<tr><th scope=row>21587</th><td>2020-01-01</td><td>Canola</td><td>Saskatchewan</td><td>507.33</td><td>387.6675</td><td>1.308673</td></tr>\n",
       "\t<tr><th scope=row>21588</th><td>2020-02-01</td><td>Canola</td><td>Saskatchewan</td><td>507.33</td><td>381.8577</td><td>1.328584</td></tr>\n",
       "\t<tr><th scope=row>21589</th><td>2020-03-01</td><td>Canola</td><td>Saskatchewan</td><td>507.33</td><td>363.6123</td><td>1.395250</td></tr>\n",
       "\t<tr><th scope=row>21590</th><td>2020-04-01</td><td>Canola</td><td>Saskatchewan</td><td>507.33</td><td>360.8871</td><td>1.405786</td></tr>\n",
       "\t<tr><th scope=row>21591</th><td>2020-05-01</td><td>Canola</td><td>Saskatchewan</td><td>507.33</td><td>363.1646</td><td>1.396970</td></tr>\n",
       "\t<tr><th scope=row>21592</th><td>2020-06-01</td><td>Canola</td><td>Saskatchewan</td><td>507.33</td><td>374.4045</td><td>1.355032</td></tr>\n",
       "\t<tr><th scope=row>21593</th><td>2020-07-01</td><td>Canola</td><td>Saskatchewan</td><td>507.33</td><td>375.8417</td><td>1.349850</td></tr>\n",
       "\t<tr><th scope=row>21594</th><td>2020-08-01</td><td>Canola</td><td>Saskatchewan</td><td>507.33</td><td>383.7000</td><td>1.322205</td></tr>\n",
       "\t<tr><th scope=row>21595</th><td>2020-09-01</td><td>Canola</td><td>Saskatchewan</td><td>507.33</td><td>383.5245</td><td>1.322810</td></tr>\n",
       "\t<tr><th scope=row>21596</th><td>2020-10-01</td><td>Canola</td><td>Saskatchewan</td><td>507.33</td><td>383.9131</td><td>1.321471</td></tr>\n",
       "\t<tr><th scope=row>21597</th><td>2020-11-01</td><td>Canola</td><td>Saskatchewan</td><td>507.33</td><td>388.2172</td><td>1.306820</td></tr>\n",
       "\t<tr><th scope=row>21598</th><td>2020-12-01</td><td>Canola</td><td>Saskatchewan</td><td>507.33</td><td>396.1130</td><td>1.280771</td></tr>\n",
       "\t<tr><th scope=row>21599</th><td>2021-01-01</td><td>Canola</td><td>Saskatchewan</td><td>507.33</td><td>398.7174</td><td>1.272405</td></tr>\n",
       "\t<tr><th scope=row>21600</th><td>2021-02-01</td><td>Canola</td><td>Saskatchewan</td><td>507.33</td><td>398.0739</td><td>1.274462</td></tr>\n",
       "</tbody>\n",
       "</table>\n"
      ],
      "text/latex": [
       "A data.frame: 21600 × 6\n",
       "\\begin{tabular}{r|llllll}\n",
       "  & DATE & CROP\\_TYPE & GEO & CANADIAN\\_DOLLARS & US\\_DOLLARS & FXUSDCAD\\\\\n",
       "  & <date> & <fct> & <fct> & <dbl> & <dbl> & <dbl>\\\\\n",
       "\\hline\n",
       "\t1 & 2017-01-01 & Canola & Saskatchewan & 339.82 & 257.5807 & 1.319276\\\\\n",
       "\t2 & 2017-02-01 & Canola & Saskatchewan & 339.82 & 259.2609 & 1.310726\\\\\n",
       "\t3 & 2017-03-01 & Canola & Saskatchewan & 339.82 & 253.8541 & 1.338643\\\\\n",
       "\t4 & 2017-04-01 & Canola & Saskatchewan & 339.82 & 252.8383 & 1.344021\\\\\n",
       "\t5 & 2017-05-01 & Canola & Saskatchewan & 339.82 & 249.7382 & 1.360705\\\\\n",
       "\t6 & 2017-06-01 & Canola & Saskatchewan & 339.82 & 255.5412 & 1.329805\\\\\n",
       "\t7 & 2017-07-01 & Canola & Saskatchewan & 339.82 & 267.8120 & 1.268875\\\\\n",
       "\t8 & 2017-08-01 & Canola & Saskatchewan & 339.82 & 269.5964 & 1.260477\\\\\n",
       "\t9 & 2017-09-01 & Canola & Saskatchewan & 339.82 & 276.6633 & 1.228280\\\\\n",
       "\t10 & 2017-10-01 & Canola & Saskatchewan & 339.82 & 269.5995 & 1.260462\\\\\n",
       "\t11 & 2017-11-01 & Canola & Saskatchewan & 339.82 & 266.1318 & 1.276886\\\\\n",
       "\t12 & 2017-12-01 & Canola & Saskatchewan & 339.82 & 266.0970 & 1.277053\\\\\n",
       "\t13 & 2018-01-01 & Canola & Saskatchewan & 339.82 & 273.4439 & 1.242741\\\\\n",
       "\t14 & 2018-02-01 & Canola & Saskatchewan & 339.82 & 269.9939 & 1.258621\\\\\n",
       "\t15 & 2018-03-01 & Canola & Saskatchewan & 339.82 & 262.7804 & 1.293171\\\\\n",
       "\t16 & 2018-04-01 & Canola & Saskatchewan & 339.82 & 266.8903 & 1.273257\\\\\n",
       "\t17 & 2018-05-01 & Canola & Saskatchewan & 339.82 & 263.9733 & 1.287327\\\\\n",
       "\t18 & 2018-06-01 & Canola & Saskatchewan & 339.82 & 258.8401 & 1.312857\\\\\n",
       "\t19 & 2018-07-01 & Canola & Saskatchewan & 339.82 & 258.8099 & 1.313010\\\\\n",
       "\t20 & 2018-08-01 & Canola & Saskatchewan & 339.82 & 260.5746 & 1.304118\\\\\n",
       "\t21 & 2018-09-01 & Canola & Saskatchewan & 339.82 & 260.6675 & 1.303653\\\\\n",
       "\t22 & 2018-10-01 & Canola & Saskatchewan & 339.82 & 261.2081 & 1.300955\\\\\n",
       "\t23 & 2018-11-01 & Canola & Saskatchewan & 339.82 & 257.4320 & 1.320038\\\\\n",
       "\t24 & 2018-12-01 & Canola & Saskatchewan & 339.82 & 252.9959 & 1.343184\\\\\n",
       "\t25 & 2019-01-01 & Canola & Saskatchewan & 339.82 & 255.4845 & 1.330100\\\\\n",
       "\t26 & 2019-02-01 & Canola & Saskatchewan & 339.82 & 257.3306 & 1.320558\\\\\n",
       "\t27 & 2019-03-01 & Canola & Saskatchewan & 339.82 & 254.2004 & 1.336819\\\\\n",
       "\t28 & 2019-04-01 & Canola & Saskatchewan & 339.82 & 254.0195 & 1.337771\\\\\n",
       "\t29 & 2019-05-01 & Canola & Saskatchewan & 339.82 & 252.4844 & 1.345905\\\\\n",
       "\t30 & 2019-06-01 & Canola & Saskatchewan & 339.82 & 255.7480 & 1.328730\\\\\n",
       "\t⋮ & ⋮ & ⋮ & ⋮ & ⋮ & ⋮ & ⋮\\\\\n",
       "\t21571 & 2018-09-01 & Canola & Saskatchewan & 507.33 & 389.1603 & 1.303653\\\\\n",
       "\t21572 & 2018-10-01 & Canola & Saskatchewan & 507.33 & 389.9674 & 1.300955\\\\\n",
       "\t21573 & 2018-11-01 & Canola & Saskatchewan & 507.33 & 384.3299 & 1.320038\\\\\n",
       "\t21574 & 2018-12-01 & Canola & Saskatchewan & 507.33 & 377.7070 & 1.343184\\\\\n",
       "\t21575 & 2019-01-01 & Canola & Saskatchewan & 507.33 & 381.4224 & 1.330100\\\\\n",
       "\t21576 & 2019-02-01 & Canola & Saskatchewan & 507.33 & 384.1785 & 1.320558\\\\\n",
       "\t21577 & 2019-03-01 & Canola & Saskatchewan & 507.33 & 379.5054 & 1.336819\\\\\n",
       "\t21578 & 2019-04-01 & Canola & Saskatchewan & 507.33 & 379.2353 & 1.337771\\\\\n",
       "\t21579 & 2019-05-01 & Canola & Saskatchewan & 507.33 & 376.9434 & 1.345905\\\\\n",
       "\t21580 & 2019-06-01 & Canola & Saskatchewan & 507.33 & 381.8157 & 1.328730\\\\\n",
       "\t21581 & 2019-07-01 & Canola & Saskatchewan & 507.33 & 387.2438 & 1.310105\\\\\n",
       "\t21582 & 2019-08-01 & Canola & Saskatchewan & 507.33 & 382.0981 & 1.327748\\\\\n",
       "\t21583 & 2019-09-01 & Canola & Saskatchewan & 507.33 & 383.1653 & 1.324050\\\\\n",
       "\t21584 & 2019-10-01 & Canola & Saskatchewan & 507.33 & 384.6390 & 1.318977\\\\\n",
       "\t21585 & 2019-11-01 & Canola & Saskatchewan & 507.33 & 383.2145 & 1.323880\\\\\n",
       "\t21586 & 2019-12-01 & Canola & Saskatchewan & 507.33 & 385.1667 & 1.317170\\\\\n",
       "\t21587 & 2020-01-01 & Canola & Saskatchewan & 507.33 & 387.6675 & 1.308673\\\\\n",
       "\t21588 & 2020-02-01 & Canola & Saskatchewan & 507.33 & 381.8577 & 1.328584\\\\\n",
       "\t21589 & 2020-03-01 & Canola & Saskatchewan & 507.33 & 363.6123 & 1.395250\\\\\n",
       "\t21590 & 2020-04-01 & Canola & Saskatchewan & 507.33 & 360.8871 & 1.405786\\\\\n",
       "\t21591 & 2020-05-01 & Canola & Saskatchewan & 507.33 & 363.1646 & 1.396970\\\\\n",
       "\t21592 & 2020-06-01 & Canola & Saskatchewan & 507.33 & 374.4045 & 1.355032\\\\\n",
       "\t21593 & 2020-07-01 & Canola & Saskatchewan & 507.33 & 375.8417 & 1.349850\\\\\n",
       "\t21594 & 2020-08-01 & Canola & Saskatchewan & 507.33 & 383.7000 & 1.322205\\\\\n",
       "\t21595 & 2020-09-01 & Canola & Saskatchewan & 507.33 & 383.5245 & 1.322810\\\\\n",
       "\t21596 & 2020-10-01 & Canola & Saskatchewan & 507.33 & 383.9131 & 1.321471\\\\\n",
       "\t21597 & 2020-11-01 & Canola & Saskatchewan & 507.33 & 388.2172 & 1.306820\\\\\n",
       "\t21598 & 2020-12-01 & Canola & Saskatchewan & 507.33 & 396.1130 & 1.280771\\\\\n",
       "\t21599 & 2021-01-01 & Canola & Saskatchewan & 507.33 & 398.7174 & 1.272405\\\\\n",
       "\t21600 & 2021-02-01 & Canola & Saskatchewan & 507.33 & 398.0739 & 1.274462\\\\\n",
       "\\end{tabular}\n"
      ],
      "text/markdown": [
       "\n",
       "A data.frame: 21600 × 6\n",
       "\n",
       "| <!--/--> | DATE &lt;date&gt; | CROP_TYPE &lt;fct&gt; | GEO &lt;fct&gt; | CANADIAN_DOLLARS &lt;dbl&gt; | US_DOLLARS &lt;dbl&gt; | FXUSDCAD &lt;dbl&gt; |\n",
       "|---|---|---|---|---|---|---|\n",
       "| 1 | 2017-01-01 | Canola | Saskatchewan | 339.82 | 257.5807 | 1.319276 |\n",
       "| 2 | 2017-02-01 | Canola | Saskatchewan | 339.82 | 259.2609 | 1.310726 |\n",
       "| 3 | 2017-03-01 | Canola | Saskatchewan | 339.82 | 253.8541 | 1.338643 |\n",
       "| 4 | 2017-04-01 | Canola | Saskatchewan | 339.82 | 252.8383 | 1.344021 |\n",
       "| 5 | 2017-05-01 | Canola | Saskatchewan | 339.82 | 249.7382 | 1.360705 |\n",
       "| 6 | 2017-06-01 | Canola | Saskatchewan | 339.82 | 255.5412 | 1.329805 |\n",
       "| 7 | 2017-07-01 | Canola | Saskatchewan | 339.82 | 267.8120 | 1.268875 |\n",
       "| 8 | 2017-08-01 | Canola | Saskatchewan | 339.82 | 269.5964 | 1.260477 |\n",
       "| 9 | 2017-09-01 | Canola | Saskatchewan | 339.82 | 276.6633 | 1.228280 |\n",
       "| 10 | 2017-10-01 | Canola | Saskatchewan | 339.82 | 269.5995 | 1.260462 |\n",
       "| 11 | 2017-11-01 | Canola | Saskatchewan | 339.82 | 266.1318 | 1.276886 |\n",
       "| 12 | 2017-12-01 | Canola | Saskatchewan | 339.82 | 266.0970 | 1.277053 |\n",
       "| 13 | 2018-01-01 | Canola | Saskatchewan | 339.82 | 273.4439 | 1.242741 |\n",
       "| 14 | 2018-02-01 | Canola | Saskatchewan | 339.82 | 269.9939 | 1.258621 |\n",
       "| 15 | 2018-03-01 | Canola | Saskatchewan | 339.82 | 262.7804 | 1.293171 |\n",
       "| 16 | 2018-04-01 | Canola | Saskatchewan | 339.82 | 266.8903 | 1.273257 |\n",
       "| 17 | 2018-05-01 | Canola | Saskatchewan | 339.82 | 263.9733 | 1.287327 |\n",
       "| 18 | 2018-06-01 | Canola | Saskatchewan | 339.82 | 258.8401 | 1.312857 |\n",
       "| 19 | 2018-07-01 | Canola | Saskatchewan | 339.82 | 258.8099 | 1.313010 |\n",
       "| 20 | 2018-08-01 | Canola | Saskatchewan | 339.82 | 260.5746 | 1.304118 |\n",
       "| 21 | 2018-09-01 | Canola | Saskatchewan | 339.82 | 260.6675 | 1.303653 |\n",
       "| 22 | 2018-10-01 | Canola | Saskatchewan | 339.82 | 261.2081 | 1.300955 |\n",
       "| 23 | 2018-11-01 | Canola | Saskatchewan | 339.82 | 257.4320 | 1.320038 |\n",
       "| 24 | 2018-12-01 | Canola | Saskatchewan | 339.82 | 252.9959 | 1.343184 |\n",
       "| 25 | 2019-01-01 | Canola | Saskatchewan | 339.82 | 255.4845 | 1.330100 |\n",
       "| 26 | 2019-02-01 | Canola | Saskatchewan | 339.82 | 257.3306 | 1.320558 |\n",
       "| 27 | 2019-03-01 | Canola | Saskatchewan | 339.82 | 254.2004 | 1.336819 |\n",
       "| 28 | 2019-04-01 | Canola | Saskatchewan | 339.82 | 254.0195 | 1.337771 |\n",
       "| 29 | 2019-05-01 | Canola | Saskatchewan | 339.82 | 252.4844 | 1.345905 |\n",
       "| 30 | 2019-06-01 | Canola | Saskatchewan | 339.82 | 255.7480 | 1.328730 |\n",
       "| ⋮ | ⋮ | ⋮ | ⋮ | ⋮ | ⋮ | ⋮ |\n",
       "| 21571 | 2018-09-01 | Canola | Saskatchewan | 507.33 | 389.1603 | 1.303653 |\n",
       "| 21572 | 2018-10-01 | Canola | Saskatchewan | 507.33 | 389.9674 | 1.300955 |\n",
       "| 21573 | 2018-11-01 | Canola | Saskatchewan | 507.33 | 384.3299 | 1.320038 |\n",
       "| 21574 | 2018-12-01 | Canola | Saskatchewan | 507.33 | 377.7070 | 1.343184 |\n",
       "| 21575 | 2019-01-01 | Canola | Saskatchewan | 507.33 | 381.4224 | 1.330100 |\n",
       "| 21576 | 2019-02-01 | Canola | Saskatchewan | 507.33 | 384.1785 | 1.320558 |\n",
       "| 21577 | 2019-03-01 | Canola | Saskatchewan | 507.33 | 379.5054 | 1.336819 |\n",
       "| 21578 | 2019-04-01 | Canola | Saskatchewan | 507.33 | 379.2353 | 1.337771 |\n",
       "| 21579 | 2019-05-01 | Canola | Saskatchewan | 507.33 | 376.9434 | 1.345905 |\n",
       "| 21580 | 2019-06-01 | Canola | Saskatchewan | 507.33 | 381.8157 | 1.328730 |\n",
       "| 21581 | 2019-07-01 | Canola | Saskatchewan | 507.33 | 387.2438 | 1.310105 |\n",
       "| 21582 | 2019-08-01 | Canola | Saskatchewan | 507.33 | 382.0981 | 1.327748 |\n",
       "| 21583 | 2019-09-01 | Canola | Saskatchewan | 507.33 | 383.1653 | 1.324050 |\n",
       "| 21584 | 2019-10-01 | Canola | Saskatchewan | 507.33 | 384.6390 | 1.318977 |\n",
       "| 21585 | 2019-11-01 | Canola | Saskatchewan | 507.33 | 383.2145 | 1.323880 |\n",
       "| 21586 | 2019-12-01 | Canola | Saskatchewan | 507.33 | 385.1667 | 1.317170 |\n",
       "| 21587 | 2020-01-01 | Canola | Saskatchewan | 507.33 | 387.6675 | 1.308673 |\n",
       "| 21588 | 2020-02-01 | Canola | Saskatchewan | 507.33 | 381.8577 | 1.328584 |\n",
       "| 21589 | 2020-03-01 | Canola | Saskatchewan | 507.33 | 363.6123 | 1.395250 |\n",
       "| 21590 | 2020-04-01 | Canola | Saskatchewan | 507.33 | 360.8871 | 1.405786 |\n",
       "| 21591 | 2020-05-01 | Canola | Saskatchewan | 507.33 | 363.1646 | 1.396970 |\n",
       "| 21592 | 2020-06-01 | Canola | Saskatchewan | 507.33 | 374.4045 | 1.355032 |\n",
       "| 21593 | 2020-07-01 | Canola | Saskatchewan | 507.33 | 375.8417 | 1.349850 |\n",
       "| 21594 | 2020-08-01 | Canola | Saskatchewan | 507.33 | 383.7000 | 1.322205 |\n",
       "| 21595 | 2020-09-01 | Canola | Saskatchewan | 507.33 | 383.5245 | 1.322810 |\n",
       "| 21596 | 2020-10-01 | Canola | Saskatchewan | 507.33 | 383.9131 | 1.321471 |\n",
       "| 21597 | 2020-11-01 | Canola | Saskatchewan | 507.33 | 388.2172 | 1.306820 |\n",
       "| 21598 | 2020-12-01 | Canola | Saskatchewan | 507.33 | 396.1130 | 1.280771 |\n",
       "| 21599 | 2021-01-01 | Canola | Saskatchewan | 507.33 | 398.7174 | 1.272405 |\n",
       "| 21600 | 2021-02-01 | Canola | Saskatchewan | 507.33 | 398.0739 | 1.274462 |\n",
       "\n"
      ],
      "text/plain": [
       "      DATE       CROP_TYPE GEO          CANADIAN_DOLLARS US_DOLLARS FXUSDCAD\n",
       "1     2017-01-01 Canola    Saskatchewan 339.82           257.5807   1.319276\n",
       "2     2017-02-01 Canola    Saskatchewan 339.82           259.2609   1.310726\n",
       "3     2017-03-01 Canola    Saskatchewan 339.82           253.8541   1.338643\n",
       "4     2017-04-01 Canola    Saskatchewan 339.82           252.8383   1.344021\n",
       "5     2017-05-01 Canola    Saskatchewan 339.82           249.7382   1.360705\n",
       "6     2017-06-01 Canola    Saskatchewan 339.82           255.5412   1.329805\n",
       "7     2017-07-01 Canola    Saskatchewan 339.82           267.8120   1.268875\n",
       "8     2017-08-01 Canola    Saskatchewan 339.82           269.5964   1.260477\n",
       "9     2017-09-01 Canola    Saskatchewan 339.82           276.6633   1.228280\n",
       "10    2017-10-01 Canola    Saskatchewan 339.82           269.5995   1.260462\n",
       "11    2017-11-01 Canola    Saskatchewan 339.82           266.1318   1.276886\n",
       "12    2017-12-01 Canola    Saskatchewan 339.82           266.0970   1.277053\n",
       "13    2018-01-01 Canola    Saskatchewan 339.82           273.4439   1.242741\n",
       "14    2018-02-01 Canola    Saskatchewan 339.82           269.9939   1.258621\n",
       "15    2018-03-01 Canola    Saskatchewan 339.82           262.7804   1.293171\n",
       "16    2018-04-01 Canola    Saskatchewan 339.82           266.8903   1.273257\n",
       "17    2018-05-01 Canola    Saskatchewan 339.82           263.9733   1.287327\n",
       "18    2018-06-01 Canola    Saskatchewan 339.82           258.8401   1.312857\n",
       "19    2018-07-01 Canola    Saskatchewan 339.82           258.8099   1.313010\n",
       "20    2018-08-01 Canola    Saskatchewan 339.82           260.5746   1.304118\n",
       "21    2018-09-01 Canola    Saskatchewan 339.82           260.6675   1.303653\n",
       "22    2018-10-01 Canola    Saskatchewan 339.82           261.2081   1.300955\n",
       "23    2018-11-01 Canola    Saskatchewan 339.82           257.4320   1.320038\n",
       "24    2018-12-01 Canola    Saskatchewan 339.82           252.9959   1.343184\n",
       "25    2019-01-01 Canola    Saskatchewan 339.82           255.4845   1.330100\n",
       "26    2019-02-01 Canola    Saskatchewan 339.82           257.3306   1.320558\n",
       "27    2019-03-01 Canola    Saskatchewan 339.82           254.2004   1.336819\n",
       "28    2019-04-01 Canola    Saskatchewan 339.82           254.0195   1.337771\n",
       "29    2019-05-01 Canola    Saskatchewan 339.82           252.4844   1.345905\n",
       "30    2019-06-01 Canola    Saskatchewan 339.82           255.7480   1.328730\n",
       "⋮     ⋮          ⋮         ⋮            ⋮                ⋮          ⋮       \n",
       "21571 2018-09-01 Canola    Saskatchewan 507.33           389.1603   1.303653\n",
       "21572 2018-10-01 Canola    Saskatchewan 507.33           389.9674   1.300955\n",
       "21573 2018-11-01 Canola    Saskatchewan 507.33           384.3299   1.320038\n",
       "21574 2018-12-01 Canola    Saskatchewan 507.33           377.7070   1.343184\n",
       "21575 2019-01-01 Canola    Saskatchewan 507.33           381.4224   1.330100\n",
       "21576 2019-02-01 Canola    Saskatchewan 507.33           384.1785   1.320558\n",
       "21577 2019-03-01 Canola    Saskatchewan 507.33           379.5054   1.336819\n",
       "21578 2019-04-01 Canola    Saskatchewan 507.33           379.2353   1.337771\n",
       "21579 2019-05-01 Canola    Saskatchewan 507.33           376.9434   1.345905\n",
       "21580 2019-06-01 Canola    Saskatchewan 507.33           381.8157   1.328730\n",
       "21581 2019-07-01 Canola    Saskatchewan 507.33           387.2438   1.310105\n",
       "21582 2019-08-01 Canola    Saskatchewan 507.33           382.0981   1.327748\n",
       "21583 2019-09-01 Canola    Saskatchewan 507.33           383.1653   1.324050\n",
       "21584 2019-10-01 Canola    Saskatchewan 507.33           384.6390   1.318977\n",
       "21585 2019-11-01 Canola    Saskatchewan 507.33           383.2145   1.323880\n",
       "21586 2019-12-01 Canola    Saskatchewan 507.33           385.1667   1.317170\n",
       "21587 2020-01-01 Canola    Saskatchewan 507.33           387.6675   1.308673\n",
       "21588 2020-02-01 Canola    Saskatchewan 507.33           381.8577   1.328584\n",
       "21589 2020-03-01 Canola    Saskatchewan 507.33           363.6123   1.395250\n",
       "21590 2020-04-01 Canola    Saskatchewan 507.33           360.8871   1.405786\n",
       "21591 2020-05-01 Canola    Saskatchewan 507.33           363.1646   1.396970\n",
       "21592 2020-06-01 Canola    Saskatchewan 507.33           374.4045   1.355032\n",
       "21593 2020-07-01 Canola    Saskatchewan 507.33           375.8417   1.349850\n",
       "21594 2020-08-01 Canola    Saskatchewan 507.33           383.7000   1.322205\n",
       "21595 2020-09-01 Canola    Saskatchewan 507.33           383.5245   1.322810\n",
       "21596 2020-10-01 Canola    Saskatchewan 507.33           383.9131   1.321471\n",
       "21597 2020-11-01 Canola    Saskatchewan 507.33           388.2172   1.306820\n",
       "21598 2020-12-01 Canola    Saskatchewan 507.33           396.1130   1.280771\n",
       "21599 2021-01-01 Canola    Saskatchewan 507.33           398.7174   1.272405\n",
       "21600 2021-02-01 Canola    Saskatchewan 507.33           398.0739   1.274462"
      ]
     },
     "metadata": {},
     "output_type": "display_data"
    }
   ],
   "source": [
    "query=\"SELECT\n",
    "    DATE,\n",
    "    CROP_TYPE,\n",
    "    GEO,\n",
    "    PRICE_PERMIT AS CANADIAN_DOLLARS,\n",
    "    (PRICE_PERMIT/FXUSDCAD) AS US_DOLLARS,\n",
    "    FXUSDCAD\n",
    "FROM\n",
    "    FARM_PRICES,\n",
    "    MONTHLY_FX\n",
    "WHERE\n",
    "    CROP_TYPE = 'Canola'\n",
    "    AND GEO = 'Saskatchewan'\";\n",
    "sqlQuery(conn,query)"
   ]
  },
  {
   "cell_type": "code",
   "execution_count": 62,
   "id": "1e0914de-9c54-492e-94bf-bf282b2f729d",
   "metadata": {
    "tags": []
   },
   "outputs": [
    {
     "data": {
      "text/html": [
       "<table>\n",
       "<caption>A data.frame: 0 × 1</caption>\n",
       "<thead>\n",
       "\t<tr><th scope=col>FXUSDCAD</th></tr>\n",
       "\t<tr><th scope=col>&lt;dbl&gt;</th></tr>\n",
       "</thead>\n",
       "<tbody>\n",
       "</tbody>\n",
       "</table>\n"
      ],
      "text/latex": [
       "A data.frame: 0 × 1\n",
       "\\begin{tabular}{l}\n",
       " FXUSDCAD\\\\\n",
       " <dbl>\\\\\n",
       "\\hline\n",
       "\\end{tabular}\n"
      ],
      "text/markdown": [
       "\n",
       "A data.frame: 0 × 1\n",
       "\n",
       "| FXUSDCAD &lt;dbl&gt; |\n",
       "|---|\n",
       "\n"
      ],
      "text/plain": [
       "     FXUSDCAD"
      ]
     },
     "metadata": {},
     "output_type": "display_data"
    }
   ],
   "source": [
    "query=\"SELECT FXUSDCAD FROM DAILY_FX\";\n",
    "sqlQuery(conn,query)"
   ]
  },
  {
   "cell_type": "code",
   "execution_count": 63,
   "id": "a14e78a0-c1fc-4c0e-8d18-548c71044b5c",
   "metadata": {
    "tags": []
   },
   "outputs": [
    {
     "data": {
      "text/html": [
       "<table>\n",
       "<caption>A data.frame: 6 × 3</caption>\n",
       "<thead>\n",
       "\t<tr><th></th><th scope=col>DFX_ID</th><th scope=col>DATE</th><th scope=col>FXUSDCAD</th></tr>\n",
       "\t<tr><th></th><th scope=col>&lt;int&gt;</th><th scope=col>&lt;chr&gt;</th><th scope=col>&lt;dbl&gt;</th></tr>\n",
       "</thead>\n",
       "<tbody>\n",
       "\t<tr><th scope=row>1</th><td>0</td><td>2017-01-01</td><td>1.319276</td></tr>\n",
       "\t<tr><th scope=row>2</th><td>1</td><td>2017-02-01</td><td>1.310726</td></tr>\n",
       "\t<tr><th scope=row>3</th><td>2</td><td>2017-03-01</td><td>1.338643</td></tr>\n",
       "\t<tr><th scope=row>4</th><td>3</td><td>2017-04-01</td><td>1.344021</td></tr>\n",
       "\t<tr><th scope=row>5</th><td>4</td><td>2017-05-01</td><td>1.360705</td></tr>\n",
       "\t<tr><th scope=row>6</th><td>5</td><td>2017-06-01</td><td>1.329805</td></tr>\n",
       "</tbody>\n",
       "</table>\n"
      ],
      "text/latex": [
       "A data.frame: 6 × 3\n",
       "\\begin{tabular}{r|lll}\n",
       "  & DFX\\_ID & DATE & FXUSDCAD\\\\\n",
       "  & <int> & <chr> & <dbl>\\\\\n",
       "\\hline\n",
       "\t1 & 0 & 2017-01-01 & 1.319276\\\\\n",
       "\t2 & 1 & 2017-02-01 & 1.310726\\\\\n",
       "\t3 & 2 & 2017-03-01 & 1.338643\\\\\n",
       "\t4 & 3 & 2017-04-01 & 1.344021\\\\\n",
       "\t5 & 4 & 2017-05-01 & 1.360705\\\\\n",
       "\t6 & 5 & 2017-06-01 & 1.329805\\\\\n",
       "\\end{tabular}\n"
      ],
      "text/markdown": [
       "\n",
       "A data.frame: 6 × 3\n",
       "\n",
       "| <!--/--> | DFX_ID &lt;int&gt; | DATE &lt;chr&gt; | FXUSDCAD &lt;dbl&gt; |\n",
       "|---|---|---|---|\n",
       "| 1 | 0 | 2017-01-01 | 1.319276 |\n",
       "| 2 | 1 | 2017-02-01 | 1.310726 |\n",
       "| 3 | 2 | 2017-03-01 | 1.338643 |\n",
       "| 4 | 3 | 2017-04-01 | 1.344021 |\n",
       "| 5 | 4 | 2017-05-01 | 1.360705 |\n",
       "| 6 | 5 | 2017-06-01 | 1.329805 |\n",
       "\n"
      ],
      "text/plain": [
       "  DFX_ID DATE       FXUSDCAD\n",
       "1 0      2017-01-01 1.319276\n",
       "2 1      2017-02-01 1.310726\n",
       "3 2      2017-03-01 1.338643\n",
       "4 3      2017-04-01 1.344021\n",
       "5 4      2017-05-01 1.360705\n",
       "6 5      2017-06-01 1.329805"
      ]
     },
     "metadata": {},
     "output_type": "display_data"
    }
   ],
   "source": [
    "monthly_df <- read.csv('https://cf-courses-data.s3.us.cloud-object-storage.appdomain.cloud/IBM-RP0203EN-SkillsNetwork/labs/Final%20Project/Monthly_FX.csv', colClasses=c(DATE=\"character\"))\n",
    "head(monthly_df)"
   ]
  },
  {
   "cell_type": "code",
   "execution_count": 64,
   "id": "a05d87cf-186a-46b4-9f41-cb706fd96a3c",
   "metadata": {
    "tags": []
   },
   "outputs": [
    {
     "ename": "ERROR",
     "evalue": "Error in sqlSave(conn, monthly_df, \"MONTHLY_FX\", append = TRUE, fast = FALSE, : unable to append to table ‘MONTHLY_FX’\n",
     "execution_count": 64,
     "output_type": "error",
     "traceback": [
      "Error in sqlSave(conn, monthly_df, \"MONTHLY_FX\", append = TRUE, fast = FALSE, : unable to append to table ‘MONTHLY_FX’\nTraceback:\n",
      "1. sqlSave(conn, monthly_df, \"MONTHLY_FX\", append = TRUE, fast = FALSE, \n .     rownames = FALSE, colnames = FALSE, verbose = FALSE)",
      "2. stop(\"unable to append to table \", sQuote(tablename))"
     ]
    }
   ],
   "source": [
    "sqlSave(conn, monthly_df, \"MONTHLY_FX\", append=TRUE, fast=FALSE, rownames=FALSE, colnames=FALSE, verbose=FALSE)"
   ]
  },
  {
   "cell_type": "code",
   "execution_count": 68,
   "id": "455987f6-83ed-4783-b58e-9726e1cc4b0f",
   "metadata": {
    "tags": []
   },
   "outputs": [
    {
     "data": {
      "text/html": [
       "<table>\n",
       "<caption>A data.frame: 6 × 6</caption>\n",
       "<thead>\n",
       "\t<tr><th></th><th scope=col>DATE</th><th scope=col>CROP_TYPE</th><th scope=col>GEO</th><th scope=col>CANADIAN_DOLLARS</th><th scope=col>US_DOLLARS</th><th scope=col>FXUSDCAD</th></tr>\n",
       "\t<tr><th></th><th scope=col>&lt;date&gt;</th><th scope=col>&lt;fct&gt;</th><th scope=col>&lt;fct&gt;</th><th scope=col>&lt;dbl&gt;</th><th scope=col>&lt;dbl&gt;</th><th scope=col>&lt;dbl&gt;</th></tr>\n",
       "</thead>\n",
       "<tbody>\n",
       "\t<tr><th scope=row>1</th><td>2021-02-01</td><td>Canola</td><td>Saskatchewan</td><td>339.82</td><td>266.6380</td><td>1.274462</td></tr>\n",
       "\t<tr><th scope=row>2</th><td>2021-02-01</td><td>Canola</td><td>Saskatchewan</td><td>350.47</td><td>274.9945</td><td>1.274462</td></tr>\n",
       "\t<tr><th scope=row>3</th><td>2021-02-01</td><td>Canola</td><td>Saskatchewan</td><td>359.99</td><td>282.4643</td><td>1.274462</td></tr>\n",
       "\t<tr><th scope=row>4</th><td>2021-02-01</td><td>Canola</td><td>Saskatchewan</td><td>364.36</td><td>285.8932</td><td>1.274462</td></tr>\n",
       "\t<tr><th scope=row>5</th><td>2021-02-01</td><td>Canola</td><td>Saskatchewan</td><td>349.77</td><td>274.4452</td><td>1.274462</td></tr>\n",
       "\t<tr><th scope=row>6</th><td>2021-02-01</td><td>Canola</td><td>Saskatchewan</td><td>341.26</td><td>267.7679</td><td>1.274462</td></tr>\n",
       "</tbody>\n",
       "</table>\n"
      ],
      "text/latex": [
       "A data.frame: 6 × 6\n",
       "\\begin{tabular}{r|llllll}\n",
       "  & DATE & CROP\\_TYPE & GEO & CANADIAN\\_DOLLARS & US\\_DOLLARS & FXUSDCAD\\\\\n",
       "  & <date> & <fct> & <fct> & <dbl> & <dbl> & <dbl>\\\\\n",
       "\\hline\n",
       "\t1 & 2021-02-01 & Canola & Saskatchewan & 339.82 & 266.6380 & 1.274462\\\\\n",
       "\t2 & 2021-02-01 & Canola & Saskatchewan & 350.47 & 274.9945 & 1.274462\\\\\n",
       "\t3 & 2021-02-01 & Canola & Saskatchewan & 359.99 & 282.4643 & 1.274462\\\\\n",
       "\t4 & 2021-02-01 & Canola & Saskatchewan & 364.36 & 285.8932 & 1.274462\\\\\n",
       "\t5 & 2021-02-01 & Canola & Saskatchewan & 349.77 & 274.4452 & 1.274462\\\\\n",
       "\t6 & 2021-02-01 & Canola & Saskatchewan & 341.26 & 267.7679 & 1.274462\\\\\n",
       "\\end{tabular}\n"
      ],
      "text/markdown": [
       "\n",
       "A data.frame: 6 × 6\n",
       "\n",
       "| <!--/--> | DATE &lt;date&gt; | CROP_TYPE &lt;fct&gt; | GEO &lt;fct&gt; | CANADIAN_DOLLARS &lt;dbl&gt; | US_DOLLARS &lt;dbl&gt; | FXUSDCAD &lt;dbl&gt; |\n",
       "|---|---|---|---|---|---|---|\n",
       "| 1 | 2021-02-01 | Canola | Saskatchewan | 339.82 | 266.6380 | 1.274462 |\n",
       "| 2 | 2021-02-01 | Canola | Saskatchewan | 350.47 | 274.9945 | 1.274462 |\n",
       "| 3 | 2021-02-01 | Canola | Saskatchewan | 359.99 | 282.4643 | 1.274462 |\n",
       "| 4 | 2021-02-01 | Canola | Saskatchewan | 364.36 | 285.8932 | 1.274462 |\n",
       "| 5 | 2021-02-01 | Canola | Saskatchewan | 349.77 | 274.4452 | 1.274462 |\n",
       "| 6 | 2021-02-01 | Canola | Saskatchewan | 341.26 | 267.7679 | 1.274462 |\n",
       "\n"
      ],
      "text/plain": [
       "  DATE       CROP_TYPE GEO          CANADIAN_DOLLARS US_DOLLARS FXUSDCAD\n",
       "1 2021-02-01 Canola    Saskatchewan 339.82           266.6380   1.274462\n",
       "2 2021-02-01 Canola    Saskatchewan 350.47           274.9945   1.274462\n",
       "3 2021-02-01 Canola    Saskatchewan 359.99           282.4643   1.274462\n",
       "4 2021-02-01 Canola    Saskatchewan 364.36           285.8932   1.274462\n",
       "5 2021-02-01 Canola    Saskatchewan 349.77           274.4452   1.274462\n",
       "6 2021-02-01 Canola    Saskatchewan 341.26           267.7679   1.274462"
      ]
     },
     "metadata": {},
     "output_type": "display_data"
    }
   ],
   "source": [
    "query=\"SELECT\n",
    "    DATE,\n",
    "    CROP_TYPE,\n",
    "    GEO,\n",
    "    PRICE_PERMIT AS CANADIAN_DOLLARS,\n",
    "    (PRICE_PERMIT / FXUSDCAD) AS US_DOLLARS,\n",
    "    FXUSDCAD\n",
    "FROM\n",
    "    FARM_PRICES,\n",
    "    MONTHLY_FX\n",
    "WHERE\n",
    "    CROP_TYPE = 'Canola'\n",
    "    AND GEO = 'Saskatchewan'\n",
    "ORDER BY\n",
    "    DATE DESC limit 06\";\n",
    "sqlQuery(conn, query)"
   ]
  },
  {
   "cell_type": "code",
   "execution_count": null,
   "id": "f175ebdc-2450-4191-a815-809e0c7e9b05",
   "metadata": {},
   "outputs": [],
   "source": []
  }
 ],
 "metadata": {
  "kernelspec": {
   "display_name": "R",
   "language": "R",
   "name": "conda-env-r-r"
  },
  "language_info": {
   "codemirror_mode": "r",
   "file_extension": ".r",
   "mimetype": "text/x-r-source",
   "name": "R",
   "pygments_lexer": "r",
   "version": "3.5.1"
  }
 },
 "nbformat": 4,
 "nbformat_minor": 5
}
